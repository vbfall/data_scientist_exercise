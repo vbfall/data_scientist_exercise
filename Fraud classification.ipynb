{
 "cells": [
  {
   "cell_type": "markdown",
   "metadata": {},
   "source": [
    "## Setup\n",
    "Import relevant libraries and read original data"
   ]
  },
  {
   "cell_type": "code",
   "execution_count": 1,
   "metadata": {},
   "outputs": [
    {
     "name": "stderr",
     "output_type": "stream",
     "text": [
      "c:\\program files\\python35\\lib\\site-packages\\sklearn\\cross_validation.py:41: DeprecationWarning: This module was deprecated in version 0.18 in favor of the model_selection module into which all the refactored classes and functions are moved. Also note that the interface of the new CV iterators are different from that of this module. This module will be removed in 0.20.\n",
      "  \"This module will be removed in 0.20.\", DeprecationWarning)\n"
     ]
    }
   ],
   "source": [
    "import numpy\n",
    "import pandas\n",
    "import matplotlib.pyplot as plt\n",
    "%matplotlib inline\n",
    "\n",
    "from sklearn import preprocessing, svm\n",
    "import sklearn.cross_validation as cross\n",
    "from sklearn.model_selection import GridSearchCV\n",
    "from sklearn.linear_model import LogisticRegression\n",
    "from sklearn.tree import DecisionTreeClassifier\n",
    "from sklearn.ensemble import RandomForestClassifier, GradientBoostingClassifier, AdaBoostClassifier\n",
    "import sklearn.metrics as metrics"
   ]
  },
  {
   "cell_type": "code",
   "execution_count": 2,
   "metadata": {},
   "outputs": [],
   "source": [
    "fraud_data = pandas.read_csv('fraud_prep.csv.gz')"
   ]
  },
  {
   "cell_type": "markdown",
   "metadata": {},
   "source": [
    "## Support functions and constants"
   ]
  },
  {
   "cell_type": "code",
   "execution_count": 3,
   "metadata": {
    "collapsed": true
   },
   "outputs": [],
   "source": [
    "#constants\n",
    "RANDOM_SEED = 42\n",
    "TEST_SPLIT = 0.2\n",
    "TOL = 1e-5\n",
    "MAX_ITER = 1e5"
   ]
  },
  {
   "cell_type": "markdown",
   "metadata": {},
   "source": [
    "## Data exploration"
   ]
  },
  {
   "cell_type": "code",
   "execution_count": 4,
   "metadata": {},
   "outputs": [
    {
     "data": {
      "text/plain": [
       "284807"
      ]
     },
     "execution_count": 4,
     "metadata": {},
     "output_type": "execute_result"
    }
   ],
   "source": [
    "#How many rows of data are available?\n",
    "len(fraud_data)"
   ]
  },
  {
   "cell_type": "code",
   "execution_count": 5,
   "metadata": {},
   "outputs": [
    {
     "data": {
      "text/html": [
       "<div>\n",
       "<style scoped>\n",
       "    .dataframe tbody tr th:only-of-type {\n",
       "        vertical-align: middle;\n",
       "    }\n",
       "\n",
       "    .dataframe tbody tr th {\n",
       "        vertical-align: top;\n",
       "    }\n",
       "\n",
       "    .dataframe thead th {\n",
       "        text-align: right;\n",
       "    }\n",
       "</style>\n",
       "<table border=\"1\" class=\"dataframe\">\n",
       "  <thead>\n",
       "    <tr style=\"text-align: right;\">\n",
       "      <th></th>\n",
       "      <th>Time</th>\n",
       "      <th>V1</th>\n",
       "      <th>V2</th>\n",
       "      <th>V3</th>\n",
       "      <th>V4</th>\n",
       "      <th>V5</th>\n",
       "      <th>V6</th>\n",
       "      <th>V7</th>\n",
       "      <th>V8</th>\n",
       "      <th>V9</th>\n",
       "      <th>...</th>\n",
       "      <th>V21</th>\n",
       "      <th>V22</th>\n",
       "      <th>V23</th>\n",
       "      <th>V24</th>\n",
       "      <th>V25</th>\n",
       "      <th>V26</th>\n",
       "      <th>V27</th>\n",
       "      <th>V28</th>\n",
       "      <th>Amount</th>\n",
       "      <th>Class</th>\n",
       "    </tr>\n",
       "  </thead>\n",
       "  <tbody>\n",
       "    <tr>\n",
       "      <th>0</th>\n",
       "      <td>0.0</td>\n",
       "      <td>-1.359807</td>\n",
       "      <td>-0.072781</td>\n",
       "      <td>2.536347</td>\n",
       "      <td>1.378155</td>\n",
       "      <td>-0.338321</td>\n",
       "      <td>0.462388</td>\n",
       "      <td>0.239599</td>\n",
       "      <td>0.098698</td>\n",
       "      <td>0.363787</td>\n",
       "      <td>...</td>\n",
       "      <td>-0.018307</td>\n",
       "      <td>0.277838</td>\n",
       "      <td>-0.110474</td>\n",
       "      <td>0.066928</td>\n",
       "      <td>0.128539</td>\n",
       "      <td>-0.189115</td>\n",
       "      <td>0.133558</td>\n",
       "      <td>-0.021053</td>\n",
       "      <td>149.62</td>\n",
       "      <td>0</td>\n",
       "    </tr>\n",
       "    <tr>\n",
       "      <th>1</th>\n",
       "      <td>0.0</td>\n",
       "      <td>1.191857</td>\n",
       "      <td>0.266151</td>\n",
       "      <td>0.166480</td>\n",
       "      <td>0.448154</td>\n",
       "      <td>0.060018</td>\n",
       "      <td>-0.082361</td>\n",
       "      <td>-0.078803</td>\n",
       "      <td>0.085102</td>\n",
       "      <td>-0.255425</td>\n",
       "      <td>...</td>\n",
       "      <td>-0.225775</td>\n",
       "      <td>-0.638672</td>\n",
       "      <td>0.101288</td>\n",
       "      <td>-0.339846</td>\n",
       "      <td>0.167170</td>\n",
       "      <td>0.125895</td>\n",
       "      <td>-0.008983</td>\n",
       "      <td>0.014724</td>\n",
       "      <td>2.69</td>\n",
       "      <td>0</td>\n",
       "    </tr>\n",
       "    <tr>\n",
       "      <th>2</th>\n",
       "      <td>1.0</td>\n",
       "      <td>-1.358354</td>\n",
       "      <td>-1.340163</td>\n",
       "      <td>1.773209</td>\n",
       "      <td>0.379780</td>\n",
       "      <td>-0.503198</td>\n",
       "      <td>1.800499</td>\n",
       "      <td>0.791461</td>\n",
       "      <td>0.247676</td>\n",
       "      <td>-1.514654</td>\n",
       "      <td>...</td>\n",
       "      <td>0.247998</td>\n",
       "      <td>0.771679</td>\n",
       "      <td>0.909412</td>\n",
       "      <td>-0.689281</td>\n",
       "      <td>-0.327642</td>\n",
       "      <td>-0.139097</td>\n",
       "      <td>-0.055353</td>\n",
       "      <td>-0.059752</td>\n",
       "      <td>378.66</td>\n",
       "      <td>0</td>\n",
       "    </tr>\n",
       "    <tr>\n",
       "      <th>3</th>\n",
       "      <td>1.0</td>\n",
       "      <td>-0.966272</td>\n",
       "      <td>-0.185226</td>\n",
       "      <td>1.792993</td>\n",
       "      <td>-0.863291</td>\n",
       "      <td>-0.010309</td>\n",
       "      <td>1.247203</td>\n",
       "      <td>0.237609</td>\n",
       "      <td>0.377436</td>\n",
       "      <td>-1.387024</td>\n",
       "      <td>...</td>\n",
       "      <td>-0.108300</td>\n",
       "      <td>0.005274</td>\n",
       "      <td>-0.190321</td>\n",
       "      <td>-1.175575</td>\n",
       "      <td>0.647376</td>\n",
       "      <td>-0.221929</td>\n",
       "      <td>0.062723</td>\n",
       "      <td>0.061458</td>\n",
       "      <td>123.50</td>\n",
       "      <td>0</td>\n",
       "    </tr>\n",
       "    <tr>\n",
       "      <th>4</th>\n",
       "      <td>2.0</td>\n",
       "      <td>-1.158233</td>\n",
       "      <td>0.877737</td>\n",
       "      <td>1.548718</td>\n",
       "      <td>0.403034</td>\n",
       "      <td>-0.407193</td>\n",
       "      <td>0.095921</td>\n",
       "      <td>0.592941</td>\n",
       "      <td>-0.270533</td>\n",
       "      <td>0.817739</td>\n",
       "      <td>...</td>\n",
       "      <td>-0.009431</td>\n",
       "      <td>0.798278</td>\n",
       "      <td>-0.137458</td>\n",
       "      <td>0.141267</td>\n",
       "      <td>-0.206010</td>\n",
       "      <td>0.502292</td>\n",
       "      <td>0.219422</td>\n",
       "      <td>0.215153</td>\n",
       "      <td>69.99</td>\n",
       "      <td>0</td>\n",
       "    </tr>\n",
       "  </tbody>\n",
       "</table>\n",
       "<p>5 rows × 31 columns</p>\n",
       "</div>"
      ],
      "text/plain": [
       "   Time        V1        V2        V3        V4        V5        V6        V7  \\\n",
       "0   0.0 -1.359807 -0.072781  2.536347  1.378155 -0.338321  0.462388  0.239599   \n",
       "1   0.0  1.191857  0.266151  0.166480  0.448154  0.060018 -0.082361 -0.078803   \n",
       "2   1.0 -1.358354 -1.340163  1.773209  0.379780 -0.503198  1.800499  0.791461   \n",
       "3   1.0 -0.966272 -0.185226  1.792993 -0.863291 -0.010309  1.247203  0.237609   \n",
       "4   2.0 -1.158233  0.877737  1.548718  0.403034 -0.407193  0.095921  0.592941   \n",
       "\n",
       "         V8        V9  ...         V21       V22       V23       V24  \\\n",
       "0  0.098698  0.363787  ...   -0.018307  0.277838 -0.110474  0.066928   \n",
       "1  0.085102 -0.255425  ...   -0.225775 -0.638672  0.101288 -0.339846   \n",
       "2  0.247676 -1.514654  ...    0.247998  0.771679  0.909412 -0.689281   \n",
       "3  0.377436 -1.387024  ...   -0.108300  0.005274 -0.190321 -1.175575   \n",
       "4 -0.270533  0.817739  ...   -0.009431  0.798278 -0.137458  0.141267   \n",
       "\n",
       "        V25       V26       V27       V28  Amount  Class  \n",
       "0  0.128539 -0.189115  0.133558 -0.021053  149.62      0  \n",
       "1  0.167170  0.125895 -0.008983  0.014724    2.69      0  \n",
       "2 -0.327642 -0.139097 -0.055353 -0.059752  378.66      0  \n",
       "3  0.647376 -0.221929  0.062723  0.061458  123.50      0  \n",
       "4 -0.206010  0.502292  0.219422  0.215153   69.99      0  \n",
       "\n",
       "[5 rows x 31 columns]"
      ]
     },
     "execution_count": 5,
     "metadata": {},
     "output_type": "execute_result"
    }
   ],
   "source": [
    "#What does it look like at first glance?\n",
    "fraud_data.head()"
   ]
  },
  {
   "cell_type": "code",
   "execution_count": 6,
   "metadata": {
    "scrolled": true
   },
   "outputs": [
    {
     "name": "stdout",
     "output_type": "stream",
     "text": [
      "The DataFrame contains 0 null values\n"
     ]
    }
   ],
   "source": [
    "#Is there missing data?\n",
    "nan_count = 0\n",
    "for c in fraud_data.columns:\n",
    "    nan_count += sum(fraud_data[c].isnull())\n",
    "print('The DataFrame contains',nan_count,'null values')"
   ]
  },
  {
   "cell_type": "code",
   "execution_count": 7,
   "metadata": {},
   "outputs": [
    {
     "name": "stdout",
     "output_type": "stream",
     "text": [
      "Time\n",
      "count    284807.000000\n",
      "mean      94813.859575\n",
      "std       47488.145955\n",
      "min           0.000000\n",
      "25%       54201.500000\n",
      "50%       84692.000000\n",
      "75%      139320.500000\n",
      "max      172792.000000\n",
      "Name: Time, dtype: float64\n",
      "\n",
      "V1\n",
      "count    2.848070e+05\n",
      "mean     1.165980e-15\n",
      "std      1.958696e+00\n",
      "min     -5.640751e+01\n",
      "25%     -9.203734e-01\n",
      "50%      1.810880e-02\n",
      "75%      1.315642e+00\n",
      "max      2.454930e+00\n",
      "Name: V1, dtype: float64\n",
      "\n",
      "V2\n",
      "count    2.848070e+05\n",
      "mean     3.416908e-16\n",
      "std      1.651309e+00\n",
      "min     -7.271573e+01\n",
      "25%     -5.985499e-01\n",
      "50%      6.548556e-02\n",
      "75%      8.037239e-01\n",
      "max      2.205773e+01\n",
      "Name: V2, dtype: float64\n",
      "\n",
      "V3\n",
      "count    2.848070e+05\n",
      "mean    -1.373150e-15\n",
      "std      1.516255e+00\n",
      "min     -4.832559e+01\n",
      "25%     -8.903648e-01\n",
      "50%      1.798463e-01\n",
      "75%      1.027196e+00\n",
      "max      9.382558e+00\n",
      "Name: V3, dtype: float64\n",
      "\n",
      "V4\n",
      "count    2.848070e+05\n",
      "mean     2.086869e-15\n",
      "std      1.415869e+00\n",
      "min     -5.683171e+00\n",
      "25%     -8.486401e-01\n",
      "50%     -1.984653e-02\n",
      "75%      7.433413e-01\n",
      "max      1.687534e+01\n",
      "Name: V4, dtype: float64\n",
      "\n",
      "V5\n",
      "count    2.848070e+05\n",
      "mean     9.604066e-16\n",
      "std      1.380247e+00\n",
      "min     -1.137433e+02\n",
      "25%     -6.915971e-01\n",
      "50%     -5.433583e-02\n",
      "75%      6.119264e-01\n",
      "max      3.480167e+01\n",
      "Name: V5, dtype: float64\n",
      "\n",
      "V6\n",
      "count    2.848070e+05\n",
      "mean     1.490107e-15\n",
      "std      1.332271e+00\n",
      "min     -2.616051e+01\n",
      "25%     -7.682956e-01\n",
      "50%     -2.741871e-01\n",
      "75%      3.985649e-01\n",
      "max      7.330163e+01\n",
      "Name: V6, dtype: float64\n",
      "\n",
      "V7\n",
      "count    2.848070e+05\n",
      "mean    -5.556467e-16\n",
      "std      1.237094e+00\n",
      "min     -4.355724e+01\n",
      "25%     -5.540759e-01\n",
      "50%      4.010308e-02\n",
      "75%      5.704361e-01\n",
      "max      1.205895e+02\n",
      "Name: V7, dtype: float64\n",
      "\n",
      "V8\n",
      "count    2.848070e+05\n",
      "mean     1.177556e-16\n",
      "std      1.194353e+00\n",
      "min     -7.321672e+01\n",
      "25%     -2.086297e-01\n",
      "50%      2.235804e-02\n",
      "75%      3.273459e-01\n",
      "max      2.000721e+01\n",
      "Name: V8, dtype: float64\n",
      "\n",
      "V9\n",
      "count    2.848070e+05\n",
      "mean    -2.406455e-15\n",
      "std      1.098632e+00\n",
      "min     -1.343407e+01\n",
      "25%     -6.430976e-01\n",
      "50%     -5.142873e-02\n",
      "75%      5.971390e-01\n",
      "max      1.559499e+01\n",
      "Name: V9, dtype: float64\n",
      "\n",
      "V10\n",
      "count    2.848070e+05\n",
      "mean     2.239751e-15\n",
      "std      1.088850e+00\n",
      "min     -2.458826e+01\n",
      "25%     -5.354257e-01\n",
      "50%     -9.291738e-02\n",
      "75%      4.539234e-01\n",
      "max      2.374514e+01\n",
      "Name: V10, dtype: float64\n",
      "\n",
      "V11\n",
      "count    2.848070e+05\n",
      "mean     1.673327e-15\n",
      "std      1.020713e+00\n",
      "min     -4.797473e+00\n",
      "25%     -7.624942e-01\n",
      "50%     -3.275735e-02\n",
      "75%      7.395934e-01\n",
      "max      1.201891e+01\n",
      "Name: V11, dtype: float64\n",
      "\n",
      "V12\n",
      "count    2.848070e+05\n",
      "mean    -1.254995e-15\n",
      "std      9.992014e-01\n",
      "min     -1.868371e+01\n",
      "25%     -4.055715e-01\n",
      "50%      1.400326e-01\n",
      "75%      6.182380e-01\n",
      "max      7.848392e+00\n",
      "Name: V12, dtype: float64\n",
      "\n",
      "V13\n",
      "count    2.848070e+05\n",
      "mean     8.176030e-16\n",
      "std      9.952742e-01\n",
      "min     -5.791881e+00\n",
      "25%     -6.485393e-01\n",
      "50%     -1.356806e-02\n",
      "75%      6.625050e-01\n",
      "max      7.126883e+00\n",
      "Name: V13, dtype: float64\n",
      "\n",
      "V14\n",
      "count    2.848070e+05\n",
      "mean     1.206296e-15\n",
      "std      9.585956e-01\n",
      "min     -1.921433e+01\n",
      "25%     -4.255740e-01\n",
      "50%      5.060132e-02\n",
      "75%      4.931498e-01\n",
      "max      1.052677e+01\n",
      "Name: V14, dtype: float64\n",
      "\n",
      "V15\n",
      "count    2.848070e+05\n",
      "mean     4.913003e-15\n",
      "std      9.153160e-01\n",
      "min     -4.498945e+00\n",
      "25%     -5.828843e-01\n",
      "50%      4.807155e-02\n",
      "75%      6.488208e-01\n",
      "max      8.877742e+00\n",
      "Name: V15, dtype: float64\n",
      "\n",
      "V16\n",
      "count    2.848070e+05\n",
      "mean     1.437666e-15\n",
      "std      8.762529e-01\n",
      "min     -1.412985e+01\n",
      "25%     -4.680368e-01\n",
      "50%      6.641332e-02\n",
      "75%      5.232963e-01\n",
      "max      1.731511e+01\n",
      "Name: V16, dtype: float64\n",
      "\n",
      "V17\n",
      "count    2.848070e+05\n",
      "mean    -3.800113e-16\n",
      "std      8.493371e-01\n",
      "min     -2.516280e+01\n",
      "25%     -4.837483e-01\n",
      "50%     -6.567575e-02\n",
      "75%      3.996750e-01\n",
      "max      9.253526e+00\n",
      "Name: V17, dtype: float64\n",
      "\n",
      "V18\n",
      "count    2.848070e+05\n",
      "mean     9.572133e-16\n",
      "std      8.381762e-01\n",
      "min     -9.498746e+00\n",
      "25%     -4.988498e-01\n",
      "50%     -3.636312e-03\n",
      "75%      5.008067e-01\n",
      "max      5.041069e+00\n",
      "Name: V18, dtype: float64\n",
      "\n",
      "V19\n",
      "count    2.848070e+05\n",
      "mean     1.039817e-15\n",
      "std      8.140405e-01\n",
      "min     -7.213527e+00\n",
      "25%     -4.562989e-01\n",
      "50%      3.734823e-03\n",
      "75%      4.589494e-01\n",
      "max      5.591971e+00\n",
      "Name: V19, dtype: float64\n",
      "\n",
      "V20\n",
      "count    2.848070e+05\n",
      "mean     6.406703e-16\n",
      "std      7.709250e-01\n",
      "min     -5.449772e+01\n",
      "25%     -2.117214e-01\n",
      "50%     -6.248109e-02\n",
      "75%      1.330408e-01\n",
      "max      3.942090e+01\n",
      "Name: V20, dtype: float64\n",
      "\n",
      "V21\n",
      "count    2.848070e+05\n",
      "mean     1.656562e-16\n",
      "std      7.345240e-01\n",
      "min     -3.483038e+01\n",
      "25%     -2.283949e-01\n",
      "50%     -2.945017e-02\n",
      "75%      1.863772e-01\n",
      "max      2.720284e+01\n",
      "Name: V21, dtype: float64\n",
      "\n",
      "V22\n",
      "count    2.848070e+05\n",
      "mean    -3.444850e-16\n",
      "std      7.257016e-01\n",
      "min     -1.093314e+01\n",
      "25%     -5.423504e-01\n",
      "50%      6.781943e-03\n",
      "75%      5.285536e-01\n",
      "max      1.050309e+01\n",
      "Name: V22, dtype: float64\n",
      "\n",
      "V23\n",
      "count    2.848070e+05\n",
      "mean     2.578648e-16\n",
      "std      6.244603e-01\n",
      "min     -4.480774e+01\n",
      "25%     -1.618463e-01\n",
      "50%     -1.119293e-02\n",
      "75%      1.476421e-01\n",
      "max      2.252841e+01\n",
      "Name: V23, dtype: float64\n",
      "\n",
      "V24\n",
      "count    2.848070e+05\n",
      "mean     4.471968e-15\n",
      "std      6.056471e-01\n",
      "min     -2.836627e+00\n",
      "25%     -3.545861e-01\n",
      "50%      4.097606e-02\n",
      "75%      4.395266e-01\n",
      "max      4.584549e+00\n",
      "Name: V24, dtype: float64\n",
      "\n",
      "V25\n",
      "count    2.848070e+05\n",
      "mean     5.340915e-16\n",
      "std      5.212781e-01\n",
      "min     -1.029540e+01\n",
      "25%     -3.171451e-01\n",
      "50%      1.659350e-02\n",
      "75%      3.507156e-01\n",
      "max      7.519589e+00\n",
      "Name: V25, dtype: float64\n",
      "\n",
      "V26\n",
      "count    2.848070e+05\n",
      "mean     1.687098e-15\n",
      "std      4.822270e-01\n",
      "min     -2.604551e+00\n",
      "25%     -3.269839e-01\n",
      "50%     -5.213911e-02\n",
      "75%      2.409522e-01\n",
      "max      3.517346e+00\n",
      "Name: V26, dtype: float64\n",
      "\n",
      "V27\n",
      "count    2.848070e+05\n",
      "mean    -3.666453e-16\n",
      "std      4.036325e-01\n",
      "min     -2.256568e+01\n",
      "25%     -7.083953e-02\n",
      "50%      1.342146e-03\n",
      "75%      9.104512e-02\n",
      "max      3.161220e+01\n",
      "Name: V27, dtype: float64\n",
      "\n",
      "V28\n",
      "count    2.848070e+05\n",
      "mean    -1.220404e-16\n",
      "std      3.300833e-01\n",
      "min     -1.543008e+01\n",
      "25%     -5.295979e-02\n",
      "50%      1.124383e-02\n",
      "75%      7.827995e-02\n",
      "max      3.384781e+01\n",
      "Name: V28, dtype: float64\n",
      "\n",
      "Amount\n",
      "count    284807.000000\n",
      "mean         88.349619\n",
      "std         250.120109\n",
      "min           0.000000\n",
      "25%           5.600000\n",
      "50%          22.000000\n",
      "75%          77.165000\n",
      "max       25691.160000\n",
      "Name: Amount, dtype: float64\n",
      "\n",
      "Class\n",
      "count    284807.000000\n",
      "mean          0.001727\n",
      "std           0.041527\n",
      "min           0.000000\n",
      "25%           0.000000\n",
      "50%           0.000000\n",
      "75%           0.000000\n",
      "max           1.000000\n",
      "Name: Class, dtype: float64\n",
      "\n"
     ]
    }
   ],
   "source": [
    "#What are the ranges in each column?\n",
    "for c in fraud_data.columns:\n",
    "    print(c)\n",
    "    print(fraud_data.loc[:,c].describe(),end='\\n\\n')"
   ]
  },
  {
   "cell_type": "markdown",
   "metadata": {},
   "source": [
    "All variables _V?_ are scaled to a mean close to zero and standard deviation close to 1, so not much more to do there. There's no reason to assume any of them wouldn't be relevant beforehand.\n",
    "\n",
    "Columns _Time_ and _Amount_ have the original values, but may also help as predictors - fraudulent buyers might for example have different behaviors for different transaction amounts. One potentially interesting use for _Time_ would be binning transactions into times of the day.\n",
    "\n",
    "Another important hint about the data is how imbalanced it is towards the 0 Class (assumed to be non-fraud). We'll avoid accuracy as a performance measure and check if over/undersampling is necessary after looking at other performance measures."
   ]
  },
  {
   "cell_type": "code",
   "execution_count": 8,
   "metadata": {},
   "outputs": [
    {
     "name": "stdout",
     "output_type": "stream",
     "text": [
      "Only 0.173 % of data samples are classified into the 1 Class\n"
     ]
    }
   ],
   "source": [
    "print('Only {:.3f}'.format(100*sum(fraud_data['Class'])/sum(fraud_data['Class'].notnull())),'% of data samples are classified into the 1 Class')"
   ]
  },
  {
   "cell_type": "code",
   "execution_count": 9,
   "metadata": {
    "scrolled": true
   },
   "outputs": [
    {
     "data": {
      "image/png": "[encoded data removed]",
      "text/plain": [
       "<matplotlib.figure.Figure at 0x13b38d490b8>"
      ]
     },
     "metadata": {},
     "output_type": "display_data"
    }
   ],
   "source": [
    "#What is the distribution of each variable?\n",
    "fig, axes = plt.subplots(nrows=len(fraud_data.columns), ncols=1)\n",
    "for i, c in enumerate(fraud_data.columns):\n",
    "    fraud_data[c].plot(kind='hist', figsize=(16, 100), title=c,\n",
    "                       ax=axes[i], bins=100,xlim=(fraud_data[c].min(),fraud_data[c].max()))"
   ]
  },
  {
   "cell_type": "markdown",
   "metadata": {},
   "source": [
    "The charts above help make clear the presence of samples in each variable series that could be considered outliers. However without knowing what each feature represents, it is unwise to decide for removing outliers - it could have undesired effects. Outliers can after all be powerful predictors of frauds. This may also be a good hint for using **decision trees** over **logistic regression**, as the former tend to behave better with outliers.\n",
    "\n",
    "One thing that can be noted in the chart for _Time_ above, is that there are two clear cycles of transactions, such as could be expected, for example, for the transaction volume along the day. From now on, it will be assumed then that the _Time_ column is in _seconds_, meaning the data covers a few seconds short of 2 full days of transactions. (The valleys of transaction volume most likely representing late night / early morning)"
   ]
  },
  {
   "cell_type": "code",
   "execution_count": 10,
   "metadata": {},
   "outputs": [
    {
     "data": {
      "text/plain": [
       "<matplotlib.axes._subplots.AxesSubplot at 0x13b3941add8>"
      ]
     },
     "execution_count": 10,
     "metadata": {},
     "output_type": "execute_result"
    },
    {
     "data": {
      "image/png": "[encoded data removed]",
      "text/plain": [
       "<matplotlib.figure.Figure at 0x13b41c43ef0>"
      ]
     },
     "metadata": {},
     "output_type": "display_data"
    }
   ],
   "source": [
    "#Is there an apparent direct relation between _Amount_ and target _Class_?\n",
    "fraud_data.plot(kind='scatter',x='Amount',y='Class',figsize=(16, 5))"
   ]
  },
  {
   "cell_type": "code",
   "execution_count": 11,
   "metadata": {},
   "outputs": [
    {
     "data": {
      "text/plain": [
       "2125.87"
      ]
     },
     "execution_count": 11,
     "metadata": {},
     "output_type": "execute_result"
    }
   ],
   "source": [
    "fraud_data['Amount'][fraud_data['Class'] == 1].max()"
   ]
  },
  {
   "cell_type": "markdown",
   "metadata": {},
   "source": [
    "Except that there are no frauds with values above 2125.87 (which may be coincidence), there seems to be no direct univariate correlation between _Amount_ and target _Class_."
   ]
  },
  {
   "cell_type": "code",
   "execution_count": 12,
   "metadata": {
    "scrolled": false
   },
   "outputs": [
    {
     "data": {
      "text/plain": [
       "<matplotlib.axes._subplots.AxesSubplot at 0x13b3cd56588>"
      ]
     },
     "execution_count": 12,
     "metadata": {},
     "output_type": "execute_result"
    },
    {
     "data": {
      "image/png": "[encoded data removed]",
      "text/plain": [
       "<matplotlib.figure.Figure at 0x13b38d47da0>"
      ]
     },
     "metadata": {},
     "output_type": "display_data"
    }
   ],
   "source": [
    "#Are frauds more concentrated in a certain period of the day?\n",
    "fig, axes = plt.subplots(nrows=2, ncols=1)\n",
    "fraud_data['Time'][fraud_data['Class']==0].plot(kind='hist', figsize=(16, 10), title='Non-fraud transactions over time',\n",
    "                                                ax=axes[0], bins=48,xlim=(fraud_data['Time'].min(),fraud_data['Time'].max()))\n",
    "fraud_data['Time'][fraud_data['Class']==1].plot(kind='hist', figsize=(16, 10), title='Fraud transactions over time',\n",
    "                                                ax=axes[1], bins=48,xlim=(fraud_data['Time'].min(),fraud_data['Time'].max()))"
   ]
  },
  {
   "cell_type": "markdown",
   "metadata": {},
   "source": [
    "There appears to be unusual fraud activity in the periods where legitimate transactions present higher volume. Binning the _Time_ data into sections of the day may therefore provide a very relevant feature!"
   ]
  },
  {
   "cell_type": "markdown",
   "metadata": {},
   "source": [
    "## Feature engineering"
   ]
  },
  {
   "cell_type": "code",
   "execution_count": 13,
   "metadata": {
    "collapsed": true
   },
   "outputs": [],
   "source": [
    "original_features = fraud_data.columns[1:29]\n",
    "work_data = fraud_data[original_features].copy()"
   ]
  },
  {
   "cell_type": "code",
   "execution_count": 14,
   "metadata": {
    "collapsed": true
   },
   "outputs": [],
   "source": [
    "#Scale _Amount_ feature\n",
    "work_data['V29'] = preprocessing.scale(fraud_data['Amount'])"
   ]
  },
  {
   "cell_type": "code",
   "execution_count": 15,
   "metadata": {
    "scrolled": false
   },
   "outputs": [
    {
     "data": {
      "text/plain": [
       "0      7695\n",
       "1      4220\n",
       "2      3328\n",
       "3      3492\n",
       "4      2209\n",
       "5      2990\n",
       "6      4101\n",
       "7      7243\n",
       "8     10276\n",
       "9     15838\n",
       "10    16598\n",
       "11    16856\n",
       "12    15420\n",
       "13    15365\n",
       "14    16570\n",
       "15    16461\n",
       "16    16453\n",
       "17    16166\n",
       "18    17039\n",
       "19    15649\n",
       "20    16756\n",
       "21    17703\n",
       "22    15441\n",
       "23    10938\n",
       "Name: time_of_day, dtype: int64"
      ]
     },
     "execution_count": 15,
     "metadata": {},
     "output_type": "execute_result"
    }
   ],
   "source": [
    "time = pandas.DataFrame()\n",
    "time['time'] = fraud_data['Time']\n",
    "time['time_in_hours'] = (time['time']/3600).astype(int)\n",
    "time['day'] = (time['time_in_hours'] / 24).astype(int)\n",
    "time['time_of_day'] = time['time_in_hours'] - 24*time['day']\n",
    "\n",
    "time['time_of_day'].value_counts(sort=False)"
   ]
  },
  {
   "cell_type": "markdown",
   "metadata": {},
   "source": [
    "Instead of using this feature as it is, regression models may benefit from having a feature centered around the period of highest activity, with the lowest activity at the extremes. As the lowest activity occurs between 4:00 and 5:00, we'll center the new feature at the value of 16 (12 being the _natural_ center, plus the 4 hours to match the lowest activity)."
   ]
  },
  {
   "cell_type": "code",
   "execution_count": 16,
   "metadata": {
    "collapsed": true
   },
   "outputs": [],
   "source": [
    "time['distance_to_16'] = time['time_of_day'] - 16 + 24*(time['time_of_day']<4)"
   ]
  },
  {
   "cell_type": "code",
   "execution_count": 17,
   "metadata": {
    "collapsed": true
   },
   "outputs": [],
   "source": [
    "#Add feature for time of day\n",
    "work_data['V30'] = preprocessing.scale(time['distance_to_16'].astype(float))"
   ]
  },
  {
   "cell_type": "code",
   "execution_count": 18,
   "metadata": {
    "collapsed": true
   },
   "outputs": [],
   "source": [
    "##Add target\n",
    "work_data['target'] = fraud_data['Class'].copy()"
   ]
  },
  {
   "cell_type": "code",
   "execution_count": 19,
   "metadata": {},
   "outputs": [
    {
     "data": {
      "text/html": [
       "<div>\n",
       "<style scoped>\n",
       "    .dataframe tbody tr th:only-of-type {\n",
       "        vertical-align: middle;\n",
       "    }\n",
       "\n",
       "    .dataframe tbody tr th {\n",
       "        vertical-align: top;\n",
       "    }\n",
       "\n",
       "    .dataframe thead th {\n",
       "        text-align: right;\n",
       "    }\n",
       "</style>\n",
       "<table border=\"1\" class=\"dataframe\">\n",
       "  <thead>\n",
       "    <tr style=\"text-align: right;\">\n",
       "      <th></th>\n",
       "      <th>V1</th>\n",
       "      <th>V2</th>\n",
       "      <th>V3</th>\n",
       "      <th>V4</th>\n",
       "      <th>V5</th>\n",
       "      <th>V6</th>\n",
       "      <th>V7</th>\n",
       "      <th>V8</th>\n",
       "      <th>V9</th>\n",
       "      <th>V10</th>\n",
       "      <th>...</th>\n",
       "      <th>V22</th>\n",
       "      <th>V23</th>\n",
       "      <th>V24</th>\n",
       "      <th>V25</th>\n",
       "      <th>V26</th>\n",
       "      <th>V27</th>\n",
       "      <th>V28</th>\n",
       "      <th>V29</th>\n",
       "      <th>V30</th>\n",
       "      <th>target</th>\n",
       "    </tr>\n",
       "  </thead>\n",
       "  <tbody>\n",
       "    <tr>\n",
       "      <th>0</th>\n",
       "      <td>-1.359807</td>\n",
       "      <td>-0.072781</td>\n",
       "      <td>2.536347</td>\n",
       "      <td>1.378155</td>\n",
       "      <td>-0.338321</td>\n",
       "      <td>0.462388</td>\n",
       "      <td>0.239599</td>\n",
       "      <td>0.098698</td>\n",
       "      <td>0.363787</td>\n",
       "      <td>0.090794</td>\n",
       "      <td>...</td>\n",
       "      <td>0.277838</td>\n",
       "      <td>-0.110474</td>\n",
       "      <td>0.066928</td>\n",
       "      <td>0.128539</td>\n",
       "      <td>-0.189115</td>\n",
       "      <td>0.133558</td>\n",
       "      <td>-0.021053</td>\n",
       "      <td>0.244964</td>\n",
       "      <td>1.563225</td>\n",
       "      <td>0</td>\n",
       "    </tr>\n",
       "    <tr>\n",
       "      <th>1</th>\n",
       "      <td>1.191857</td>\n",
       "      <td>0.266151</td>\n",
       "      <td>0.166480</td>\n",
       "      <td>0.448154</td>\n",
       "      <td>0.060018</td>\n",
       "      <td>-0.082361</td>\n",
       "      <td>-0.078803</td>\n",
       "      <td>0.085102</td>\n",
       "      <td>-0.255425</td>\n",
       "      <td>-0.166974</td>\n",
       "      <td>...</td>\n",
       "      <td>-0.638672</td>\n",
       "      <td>0.101288</td>\n",
       "      <td>-0.339846</td>\n",
       "      <td>0.167170</td>\n",
       "      <td>0.125895</td>\n",
       "      <td>-0.008983</td>\n",
       "      <td>0.014724</td>\n",
       "      <td>-0.342475</td>\n",
       "      <td>1.563225</td>\n",
       "      <td>0</td>\n",
       "    </tr>\n",
       "    <tr>\n",
       "      <th>2</th>\n",
       "      <td>-1.358354</td>\n",
       "      <td>-1.340163</td>\n",
       "      <td>1.773209</td>\n",
       "      <td>0.379780</td>\n",
       "      <td>-0.503198</td>\n",
       "      <td>1.800499</td>\n",
       "      <td>0.791461</td>\n",
       "      <td>0.247676</td>\n",
       "      <td>-1.514654</td>\n",
       "      <td>0.207643</td>\n",
       "      <td>...</td>\n",
       "      <td>0.771679</td>\n",
       "      <td>0.909412</td>\n",
       "      <td>-0.689281</td>\n",
       "      <td>-0.327642</td>\n",
       "      <td>-0.139097</td>\n",
       "      <td>-0.055353</td>\n",
       "      <td>-0.059752</td>\n",
       "      <td>1.160686</td>\n",
       "      <td>1.563225</td>\n",
       "      <td>0</td>\n",
       "    </tr>\n",
       "    <tr>\n",
       "      <th>3</th>\n",
       "      <td>-0.966272</td>\n",
       "      <td>-0.185226</td>\n",
       "      <td>1.792993</td>\n",
       "      <td>-0.863291</td>\n",
       "      <td>-0.010309</td>\n",
       "      <td>1.247203</td>\n",
       "      <td>0.237609</td>\n",
       "      <td>0.377436</td>\n",
       "      <td>-1.387024</td>\n",
       "      <td>-0.054952</td>\n",
       "      <td>...</td>\n",
       "      <td>0.005274</td>\n",
       "      <td>-0.190321</td>\n",
       "      <td>-1.175575</td>\n",
       "      <td>0.647376</td>\n",
       "      <td>-0.221929</td>\n",
       "      <td>0.062723</td>\n",
       "      <td>0.061458</td>\n",
       "      <td>0.140534</td>\n",
       "      <td>1.563225</td>\n",
       "      <td>0</td>\n",
       "    </tr>\n",
       "    <tr>\n",
       "      <th>4</th>\n",
       "      <td>-1.158233</td>\n",
       "      <td>0.877737</td>\n",
       "      <td>1.548718</td>\n",
       "      <td>0.403034</td>\n",
       "      <td>-0.407193</td>\n",
       "      <td>0.095921</td>\n",
       "      <td>0.592941</td>\n",
       "      <td>-0.270533</td>\n",
       "      <td>0.817739</td>\n",
       "      <td>0.753074</td>\n",
       "      <td>...</td>\n",
       "      <td>0.798278</td>\n",
       "      <td>-0.137458</td>\n",
       "      <td>0.141267</td>\n",
       "      <td>-0.206010</td>\n",
       "      <td>0.502292</td>\n",
       "      <td>0.219422</td>\n",
       "      <td>0.215153</td>\n",
       "      <td>-0.073403</td>\n",
       "      <td>1.563225</td>\n",
       "      <td>0</td>\n",
       "    </tr>\n",
       "  </tbody>\n",
       "</table>\n",
       "<p>5 rows × 31 columns</p>\n",
       "</div>"
      ],
      "text/plain": [
       "         V1        V2        V3        V4        V5        V6        V7  \\\n",
       "0 -1.359807 -0.072781  2.536347  1.378155 -0.338321  0.462388  0.239599   \n",
       "1  1.191857  0.266151  0.166480  0.448154  0.060018 -0.082361 -0.078803   \n",
       "2 -1.358354 -1.340163  1.773209  0.379780 -0.503198  1.800499  0.791461   \n",
       "3 -0.966272 -0.185226  1.792993 -0.863291 -0.010309  1.247203  0.237609   \n",
       "4 -1.158233  0.877737  1.548718  0.403034 -0.407193  0.095921  0.592941   \n",
       "\n",
       "         V8        V9       V10   ...         V22       V23       V24  \\\n",
       "0  0.098698  0.363787  0.090794   ...    0.277838 -0.110474  0.066928   \n",
       "1  0.085102 -0.255425 -0.166974   ...   -0.638672  0.101288 -0.339846   \n",
       "2  0.247676 -1.514654  0.207643   ...    0.771679  0.909412 -0.689281   \n",
       "3  0.377436 -1.387024 -0.054952   ...    0.005274 -0.190321 -1.175575   \n",
       "4 -0.270533  0.817739  0.753074   ...    0.798278 -0.137458  0.141267   \n",
       "\n",
       "        V25       V26       V27       V28       V29       V30  target  \n",
       "0  0.128539 -0.189115  0.133558 -0.021053  0.244964  1.563225       0  \n",
       "1  0.167170  0.125895 -0.008983  0.014724 -0.342475  1.563225       0  \n",
       "2 -0.327642 -0.139097 -0.055353 -0.059752  1.160686  1.563225       0  \n",
       "3  0.647376 -0.221929  0.062723  0.061458  0.140534  1.563225       0  \n",
       "4 -0.206010  0.502292  0.219422  0.215153 -0.073403  1.563225       0  \n",
       "\n",
       "[5 rows x 31 columns]"
      ]
     },
     "execution_count": 19,
     "metadata": {},
     "output_type": "execute_result"
    }
   ],
   "source": [
    "work_data.head()"
   ]
  },
  {
   "cell_type": "markdown",
   "metadata": {},
   "source": [
    "## Dataset preparation"
   ]
  },
  {
   "cell_type": "code",
   "execution_count": 20,
   "metadata": {
    "collapsed": true
   },
   "outputs": [],
   "source": [
    "#Split indexes into train and test\n",
    "(train_index, test_index) = cross.train_test_split(work_data.index,test_size = TEST_SPLIT, random_state = RANDOM_SEED)\n",
    "\n",
    "train_data = work_data.iloc[train_index]\n",
    "test_data = work_data.iloc[test_index]\n",
    "\n",
    "train_data.reset_index(inplace = True, drop = True)\n",
    "test_data.reset_index(inplace = True, drop = True)\n",
    "\n",
    "features = work_data.columns[0:30]"
   ]
  },
  {
   "cell_type": "markdown",
   "metadata": {},
   "source": [
    "## Models training"
   ]
  },
  {
   "cell_type": "markdown",
   "metadata": {},
   "source": [
    "Leveraging Scikit-Learn to train different models on our work_data"
   ]
  },
  {
   "cell_type": "markdown",
   "metadata": {},
   "source": [
    "#### Logistic regression"
   ]
  },
  {
   "cell_type": "code",
   "execution_count": 21,
   "metadata": {
    "scrolled": true
   },
   "outputs": [
    {
     "name": "stdout",
     "output_type": "stream",
     "text": [
      "[LibLinear][LibLinear][LibLinear][LibLinear][LibLinear][LibLinear][LibLinear][LibLinear][LibLinear][LibLinear][LibLinear][LibLinear][LibLinear][LibLinear][LibLinear][LibLinear][LibLinear][LibLinear][LibLinear][LibLinear][LibLinear][LibLinear][LibLinear][LibLinear][LibLinear][LibLinear][LibLinear][LibLinear]"
     ]
    },
    {
     "data": {
      "text/plain": [
       "{'mean_fit_time': array([4.48614915, 5.00676004, 5.15833902, 6.07352034, 5.44999305,\n",
       "        5.54070719, 5.09351055, 5.43712815, 5.49008481]),\n",
       " 'mean_score_time': array([0.02754251, 0.02451785, 0.03553303, 0.02685428, 0.02085002,\n",
       "        0.02219081, 0.02202137, 0.02001564, 0.02201478]),\n",
       " 'mean_test_score': array([0.1149887 , 0.11471996, 0.11282244, 0.11211998, 0.11186331,\n",
       "        0.11158482, 0.1114928 , 0.11145792, 0.11145792]),\n",
       " 'mean_train_score': array([0.12005225, 0.11790913, 0.11704475, 0.1161406 , 0.1157971 ,\n",
       "        0.11562206, 0.11554704, 0.11555337, 0.11555352]),\n",
       " 'param_C': masked_array(data=[0.01, 0.03, 0.1, 0.3, 1, 3, 10, 30, 100],\n",
       "              mask=[False, False, False, False, False, False, False, False,\n",
       "                    False],\n",
       "        fill_value='?',\n",
       "             dtype=object),\n",
       " 'params': [{'C': 0.01},\n",
       "  {'C': 0.03},\n",
       "  {'C': 0.1},\n",
       "  {'C': 0.3},\n",
       "  {'C': 1},\n",
       "  {'C': 3},\n",
       "  {'C': 10},\n",
       "  {'C': 30},\n",
       "  {'C': 100}],\n",
       " 'rank_test_score': array([1, 2, 3, 4, 5, 6, 7, 8, 8]),\n",
       " 'split0_test_score': array([0.12917847, 0.1281337 , 0.1253406 , 0.12425716, 0.12405609,\n",
       "        0.12372243, 0.12352309, 0.12345679, 0.12345679]),\n",
       " 'split0_train_score': array([0.14331676, 0.13984018, 0.13756317, 0.13641425, 0.13596004,\n",
       "        0.13588464, 0.13573407, 0.13577168, 0.13580931]),\n",
       " 'split1_test_score': array([0.11324471, 0.11462451, 0.11389298, 0.11378127, 0.1138371 ,\n",
       "        0.1138371 , 0.1138371 , 0.1138371 , 0.1138371 ]),\n",
       " 'split1_train_score': array([0.11744556, 0.1171589 , 0.11735941, 0.11690209, 0.11664642,\n",
       "        0.11658975, 0.11658975, 0.11658975, 0.11658975]),\n",
       " 'split2_test_score': array([0.10254273, 0.10140148, 0.09923356, 0.09832134, 0.09769658,\n",
       "        0.09719478, 0.09711804, 0.09707972, 0.09707972]),\n",
       " 'split2_train_score': array([0.09939445, 0.09672831, 0.09621167, 0.09510545, 0.09478485,\n",
       "        0.09439179, 0.09431728, 0.09429868, 0.09426149]),\n",
       " 'std_fit_time': array([0.48415319, 0.50475982, 0.52019339, 0.18611791, 0.73227059,\n",
       "        0.84729634, 0.43518624, 0.70266297, 0.7285777 ]),\n",
       " 'std_score_time': array([0.00394463, 0.00534291, 0.01845041, 0.00278282, 0.00193018,\n",
       "        0.00241455, 0.0029547 , 0.00081809, 0.00294681]),\n",
       " 'std_test_score': array([0.01094371, 0.0109136 , 0.01068501, 0.01065323, 0.01085136,\n",
       "        0.01094635, 0.01090654, 0.01089903, 0.01089903]),\n",
       " 'std_train_score': array([0.0180257 , 0.01760834, 0.01688315, 0.01687284, 0.01682043,\n",
       "        0.0169532 , 0.0169244 , 0.01694713, 0.01697765])}"
      ]
     },
     "execution_count": 21,
     "metadata": {},
     "output_type": "execute_result"
    }
   ],
   "source": [
    "tune_parameters = {'C':[0.01,0.03,0.1,0.3,1,3,10,30,100]}\n",
    "model_logit = LogisticRegression(tol=TOL, max_iter=MAX_ITER,\n",
    "                                 class_weight='balanced', random_state=RANDOM_SEED,\n",
    "                                 verbose=1) \n",
    "cross_validation_logit = GridSearchCV(model_logit, tune_parameters, scoring='f1',\n",
    "                                      return_train_score=True)\n",
    "cross_validation_logit.fit(train_data[features], numpy.ravel(train_data['target']))\n",
    "cross_validation_logit.cv_results_"
   ]
  },
  {
   "cell_type": "code",
   "execution_count": 22,
   "metadata": {},
   "outputs": [
    {
     "name": "stdout",
     "output_type": "stream",
     "text": [
      "[LibLinear]"
     ]
    },
    {
     "data": {
      "text/plain": [
       "LogisticRegression(C=0.01, class_weight='balanced', dual=False,\n",
       "          fit_intercept=True, intercept_scaling=1, max_iter=100000.0,\n",
       "          multi_class='ovr', n_jobs=1, penalty='l2', random_state=42,\n",
       "          solver='liblinear', tol=1e-05, verbose=1, warm_start=False)"
      ]
     },
     "execution_count": 22,
     "metadata": {},
     "output_type": "execute_result"
    }
   ],
   "source": [
    "#From the results above\n",
    "model_logit.set_params(C=0.01) \n",
    "model_logit.fit(train_data[features], numpy.ravel(train_data['target']))"
   ]
  },
  {
   "cell_type": "markdown",
   "metadata": {},
   "source": [
    "#### Decision Tree"
   ]
  },
  {
   "cell_type": "code",
   "execution_count": 23,
   "metadata": {},
   "outputs": [
    {
     "data": {
      "text/plain": [
       "{'mean_fit_time': array([5.52715143, 5.90185674]),\n",
       " 'mean_score_time': array([0.02971331, 0.0298926 ]),\n",
       " 'mean_test_score': array([0.69849578, 0.766285  ]),\n",
       " 'mean_train_score': array([1., 1.]),\n",
       " 'param_criterion': masked_array(data=['gini', 'entropy'],\n",
       "              mask=[False, False],\n",
       "        fill_value='?',\n",
       "             dtype=object),\n",
       " 'params': [{'criterion': 'gini'}, {'criterion': 'entropy'}],\n",
       " 'rank_test_score': array([2, 1]),\n",
       " 'split0_test_score': array([0.68548387, 0.79230769]),\n",
       " 'split0_train_score': array([1., 1.]),\n",
       " 'split1_test_score': array([0.68273092, 0.74897119]),\n",
       " 'split1_train_score': array([1., 1.]),\n",
       " 'split2_test_score': array([0.72727273, 0.75757576]),\n",
       " 'split2_train_score': array([1., 1.]),\n",
       " 'std_fit_time': array([0.83603322, 0.45575376]),\n",
       " 'std_score_time': array([0.0004902 , 0.00062418]),\n",
       " 'std_test_score': array([0.02037932, 0.01873325]),\n",
       " 'std_train_score': array([0., 0.])}"
      ]
     },
     "execution_count": 23,
     "metadata": {},
     "output_type": "execute_result"
    }
   ],
   "source": [
    "tune_parameters = {'criterion':['gini','entropy']}\n",
    "model_tree = DecisionTreeClassifier(class_weight='balanced', random_state=RANDOM_SEED)\n",
    "cross_validation_tree = GridSearchCV(model_tree, tune_parameters, scoring='f1',\n",
    "                                     return_train_score=True)\n",
    "cross_validation_tree.fit(train_data[features], numpy.ravel(train_data['target']))\n",
    "cross_validation_tree.cv_results_"
   ]
  },
  {
   "cell_type": "code",
   "execution_count": 24,
   "metadata": {},
   "outputs": [
    {
     "data": {
      "text/plain": [
       "DecisionTreeClassifier(class_weight='balanced', criterion='entropy',\n",
       "            max_depth=None, max_features=None, max_leaf_nodes=None,\n",
       "            min_impurity_decrease=0.0, min_impurity_split=None,\n",
       "            min_samples_leaf=1, min_samples_split=2,\n",
       "            min_weight_fraction_leaf=0.0, presort=False, random_state=42,\n",
       "            splitter='best')"
      ]
     },
     "execution_count": 24,
     "metadata": {},
     "output_type": "execute_result"
    }
   ],
   "source": [
    "model_tree.set_params(criterion='entropy')\n",
    "model_tree.fit(train_data[features], numpy.ravel(train_data['target']))"
   ]
  },
  {
   "cell_type": "markdown",
   "metadata": {
    "collapsed": true
   },
   "source": [
    "#### Random Forest model"
   ]
  },
  {
   "cell_type": "code",
   "execution_count": 25,
   "metadata": {},
   "outputs": [
    {
     "name": "stderr",
     "output_type": "stream",
     "text": [
      "[Parallel(n_jobs=1)]: Done  10 out of  10 | elapsed:    6.7s finished\n",
      "[Parallel(n_jobs=1)]: Done  10 out of  10 | elapsed:    0.0s finished\n",
      "[Parallel(n_jobs=1)]: Done  10 out of  10 | elapsed:    0.1s finished\n",
      "[Parallel(n_jobs=1)]: Done  10 out of  10 | elapsed:    6.3s finished\n",
      "[Parallel(n_jobs=1)]: Done  10 out of  10 | elapsed:    0.0s finished\n",
      "[Parallel(n_jobs=1)]: Done  10 out of  10 | elapsed:    0.1s finished\n",
      "[Parallel(n_jobs=1)]: Done  10 out of  10 | elapsed:    6.0s finished\n",
      "[Parallel(n_jobs=1)]: Done  10 out of  10 | elapsed:    0.0s finished\n",
      "[Parallel(n_jobs=1)]: Done  10 out of  10 | elapsed:    0.1s finished\n",
      "[Parallel(n_jobs=1)]: Done  10 out of  10 | elapsed:    7.8s finished\n",
      "[Parallel(n_jobs=1)]: Done  10 out of  10 | elapsed:    0.0s finished\n",
      "[Parallel(n_jobs=1)]: Done  10 out of  10 | elapsed:    0.1s finished\n",
      "[Parallel(n_jobs=1)]: Done  10 out of  10 | elapsed:    8.3s finished\n",
      "[Parallel(n_jobs=1)]: Done  10 out of  10 | elapsed:    0.0s finished\n",
      "[Parallel(n_jobs=1)]: Done  10 out of  10 | elapsed:    0.1s finished\n",
      "[Parallel(n_jobs=1)]: Done  10 out of  10 | elapsed:    7.8s finished\n",
      "[Parallel(n_jobs=1)]: Done  10 out of  10 | elapsed:    0.0s finished\n",
      "[Parallel(n_jobs=1)]: Done  10 out of  10 | elapsed:    0.1s finished\n",
      "[Parallel(n_jobs=1)]: Done  10 out of  10 | elapsed:   14.3s finished\n"
     ]
    },
    {
     "data": {
      "text/plain": [
       "{'mean_fit_time': array([6.58769051, 8.1818525 ]),\n",
       " 'mean_score_time': array([0.11989721, 0.1092569 ]),\n",
       " 'mean_test_score': array([0.81404801, 0.8229884 ]),\n",
       " 'mean_train_score': array([0.97594743, 0.97462782]),\n",
       " 'param_criterion': masked_array(data=['gini', 'entropy'],\n",
       "              mask=[False, False],\n",
       "        fill_value='?',\n",
       "             dtype=object),\n",
       " 'params': [{'criterion': 'gini'}, {'criterion': 'entropy'}],\n",
       " 'rank_test_score': array([2, 1]),\n",
       " 'split0_test_score': array([0.81385281, 0.8       ]),\n",
       " 'split0_train_score': array([0.97465887, 0.97064579]),\n",
       " 'split1_test_score': array([0.78181818, 0.81896552]),\n",
       " 'split1_train_score': array([0.98455598, 0.98259188]),\n",
       " 'split2_test_score': array([0.84647303, 0.85      ]),\n",
       " 'split2_train_score': array([0.96862745, 0.97064579]),\n",
       " 'std_fit_time': array([0.30297645, 0.21147704]),\n",
       " 'std_score_time': array([0.01671004, 0.00086323]),\n",
       " 'std_test_score': array([0.02639553, 0.02060969]),\n",
       " 'std_train_score': array([0.00656632, 0.00563144])}"
      ]
     },
     "execution_count": 25,
     "metadata": {},
     "output_type": "execute_result"
    }
   ],
   "source": [
    "tune_parameters = {'criterion':['gini','entropy']}\n",
    "model_forest = RandomForestClassifier(class_weight='balanced', random_state=RANDOM_SEED,\n",
    "                                      verbose=1)\n",
    "cross_validation_forest = GridSearchCV(model_forest, tune_parameters, scoring='f1',\n",
    "                                       return_train_score=True)\n",
    "cross_validation_forest.fit(train_data[features], numpy.ravel(train_data['target']))\n",
    "cross_validation_forest.cv_results_"
   ]
  },
  {
   "cell_type": "code",
   "execution_count": 26,
   "metadata": {},
   "outputs": [
    {
     "name": "stderr",
     "output_type": "stream",
     "text": [
      "[Parallel(n_jobs=1)]: Done  10 out of  10 | elapsed:   14.8s finished\n"
     ]
    },
    {
     "data": {
      "text/plain": [
       "RandomForestClassifier(bootstrap=True, class_weight='balanced',\n",
       "            criterion='entropy', max_depth=None, max_features='auto',\n",
       "            max_leaf_nodes=None, min_impurity_decrease=0.0,\n",
       "            min_impurity_split=None, min_samples_leaf=1,\n",
       "            min_samples_split=2, min_weight_fraction_leaf=0.0,\n",
       "            n_estimators=10, n_jobs=1, oob_score=False, random_state=42,\n",
       "            verbose=1, warm_start=False)"
      ]
     },
     "execution_count": 26,
     "metadata": {},
     "output_type": "execute_result"
    }
   ],
   "source": [
    "#Random forest model\n",
    "model_forest.set_params(criterion='entropy')\n",
    "model_forest.fit(train_data[features], numpy.ravel(train_data['target']))"
   ]
  },
  {
   "cell_type": "markdown",
   "metadata": {},
   "source": [
    "#### XG Boost"
   ]
  },
  {
   "cell_type": "code",
   "execution_count": 27,
   "metadata": {
    "scrolled": true
   },
   "outputs": [
    {
     "name": "stdout",
     "output_type": "stream",
     "text": [
      "      Iter       Train Loss      OOB Improve   Remaining Time \n",
      "         1           0.0079          -0.0180            1.70s\n",
      "         2           0.0180          -0.0011            1.66s\n",
      "         3           0.0385           0.0005            1.38s\n",
      "         4           0.0417          -0.0227            1.22s\n",
      "         5           0.0887          -0.0032            0.99s\n",
      "         6           0.0397          -0.5795            0.79s\n",
      "         7           0.0416          -0.0073            0.57s\n",
      "         8           0.0328           0.0001            0.38s\n",
      "         9           0.0439           0.0001            0.19s\n",
      "        10           0.0318           0.0001            0.00s\n",
      "      Iter       Train Loss      OOB Improve   Remaining Time \n",
      "         1           0.0141          -0.0186            1.61s\n",
      "         2           0.0279          -0.0025            1.63s\n",
      "         3           0.0397          -0.0152            1.43s\n",
      "         4           0.0211          -0.0063            1.26s\n",
      "         5           0.0858          -0.0055            1.07s\n",
      "         6           0.0559          -0.0236            0.88s\n",
      "         7           0.0537           0.0160            0.67s\n",
      "         8           0.0159           0.0003            0.45s\n",
      "         9           0.0526 -823580117361.5192            0.23s\n",
      "        10 593008048899.9821           0.0001            0.00s\n",
      "      Iter       Train Loss      OOB Improve   Remaining Time \n",
      "         1           0.0150          -0.0328            1.73s\n",
      "         2           0.0308           0.0015            1.63s\n",
      "         3           0.0416           0.0009            1.38s\n",
      "         4           0.0153     -447153.6165            1.26s\n",
      "         5     1341529.6013          -0.0324            1.01s\n",
      "         6      670764.8275           0.0002            0.83s\n",
      "         7      670764.7874          -0.0001            0.63s\n",
      "         8           0.0781 -52709127511.3273            0.42s\n",
      "         9      670765.0143          -0.0502            0.21s\n",
      "        10      670765.8520           0.0001            0.00s\n",
      "      Iter       Train Loss      OOB Improve   Remaining Time \n",
      "         1           0.0291          -0.0053            4.94s\n",
      "         2           0.0184           0.0004            4.40s\n",
      "         3           0.0190           0.0024            3.76s\n",
      "         4         242.9053        -485.7497            3.21s\n",
      "         5         364.5769           0.0002            2.69s\n",
      "         6         485.7755          -0.0023            2.18s\n",
      "         7         364.3467          -0.0081            1.64s\n",
      "         8         364.3520           0.0001            1.09s\n",
      "         9         607.4476           0.0001            0.54s\n",
      "        10         486.0079      -10805.9114            0.00s\n",
      "      Iter       Train Loss      OOB Improve   Remaining Time \n",
      "         1           0.0192          -0.0033            5.02s\n",
      "         2           0.0145           0.0024            4.62s\n",
      "         3           0.0383          -0.0110            4.02s\n",
      "         4    19291657.3147   -14030111.4597            3.44s\n",
      "         5    15784083.2576           0.0003            2.85s\n",
      "         6    21045444.3482           0.0003            2.26s\n",
      "         7    10522722.1793          -0.0011            1.71s\n",
      "         8    12276509.1979     -359514.2479            1.14s\n",
      "         9    16143602.2399           0.0002            0.57s\n",
      "        10    15784083.2594           0.0002            0.00s\n",
      "      Iter       Train Loss      OOB Improve   Remaining Time \n",
      "         1           0.0244          -0.0006            4.96s\n",
      "         2           0.0199           0.0025            4.38s\n",
      "         3           0.0175           0.0004            3.75s\n",
      "         4      732962.0857    -1465904.8548            3.27s\n",
      "         5     1465924.1775           0.0001            2.70s\n",
      "         6     1099443.1603           0.0002            2.18s\n",
      "         7      732962.1177           0.0002            1.63s\n",
      "         8      732962.1052           0.0001            1.08s\n",
      "         9      732962.1237           0.0001            0.54s\n",
      "        10     1832405.1825           0.0001            0.00s\n",
      "      Iter       Train Loss   Remaining Time \n",
      "         1           0.0284            6.35s\n",
      "         2           0.1800            5.76s\n",
      "         3 1651716733278434523529762297147929449621460556757575700566501544360664720613899934342299193661059357802106411067165064721714374371669997936181248.0000            5.07s\n",
      "         4 1651716733278434523529762297147929449621460556757575700566501544360664720613899934342299193661059357802106411067165064721714374371669997936181248.0000            4.36s\n",
      "         5 1651716733278434523529762297147929449621460556757575700566501544360664720613899934342299193661059357802106411067165064721714374371669997936181248.0000            3.62s\n",
      "         6 1651716733278434523529762297147929449621460556757575700566501544360664720613899934342299193661059357802106411067165064721714374371669997936181248.0000            2.90s\n",
      "         7 1651716733278434523529762297147929449621460556757575700566501544360664720613899934342299193661059357802106411067165064721714374371669997936181248.0000            2.19s\n",
      "         8 1651716733278434523529762297147929449621460556757575700566501544360664720613899934342299193661059357802106411067165064721714374371669997936181248.0000            1.47s\n",
      "         9 1651716733278434523529762297147929449621460556757575700566501544360664720613899934342299193661059357802106411067165064721714374371669997936181248.0000            0.73s\n",
      "        10 1651716733278434523529762297147929449621460556757575700566501544360664720613899934342299193661059357802106411067165064721714374371669997936181248.0000            0.00s\n",
      "      Iter       Train Loss   Remaining Time \n",
      "         1           0.0251            6.78s\n",
      "         2           0.1103            5.93s\n",
      "         3           0.1091            5.16s\n",
      "         4           0.1087            4.46s\n",
      "         5           0.8064            3.73s\n",
      "         6           0.8060            2.97s\n",
      "         7           0.8058            2.24s\n",
      "         8           0.8055            1.48s\n",
      "         9           1.6768            0.74s\n",
      "        10           1.6705            0.00s\n",
      "      Iter       Train Loss   Remaining Time \n",
      "         1           0.0238            7.32s\n",
      "         2   556462846.5145            5.79s\n",
      "         3   556462846.8302            4.88s\n",
      "         4   556462846.8297            4.09s\n",
      "         5   556462846.8294            3.37s\n",
      "         6   556462846.8289            2.68s\n",
      "         7   556462846.8281            2.02s\n",
      "         8   556462846.8278            1.34s\n",
      "         9   556462846.8207            0.67s\n",
      "        10   549266478.8497            0.00s\n",
      "      Iter       Train Loss      OOB Improve   Remaining Time \n",
      "         1           0.0079          -0.0180           18.92s\n",
      "         2           0.0180          -0.0011           19.20s\n",
      "         3           0.0385           0.0005           18.35s\n",
      "         4           0.0417          -0.0227           18.70s\n",
      "         5           0.0887          -0.0032           18.16s\n",
      "         6           0.0397          -0.5795           17.86s\n",
      "         7           0.0416          -0.0073           17.06s\n",
      "         8           0.0328           0.0001           16.76s\n",
      "         9           0.0439           0.0001           16.41s\n",
      "        10           0.0318           0.0001           16.06s\n",
      "        20           3.7150           0.0006           14.67s\n",
      "        30           0.9693           0.0000           12.89s\n",
      "        40           1.7025           0.0000           11.27s\n",
      "        50 3095527956075687635763076786127312334356631850991068407827995752257603346963196693175005992938633450098891858962358945999312985474748420980736.0000           0.0000            9.62s\n",
      "        60 2560586228289808667463758024421375973322964724789548915417218317360739392698381524879863619938776390782405640342666229899635243190243456712704.0000           0.0000            8.05s\n",
      "        70 2023127926397136618558373647042667833732886063503288125059879990953198703086602739688977097500382039322816870991372968105217837936416277921792.0000           0.0000            6.39s\n",
      "        80 2528909907996420603967639048499693460475788722989723960253251149835506241988161834363338815379773017905083216172103289148172019014540621512704.0000           0.0000            4.31s\n"
     ]
    },
    {
     "name": "stdout",
     "output_type": "stream",
     "text": [
      "        90 1665661249837619612823472600681119666858304134340694697470508070518397155127738088526967465687631569064125208334377642140519455423638896902144.0000           0.0000            2.26s\n",
      "       100 2319758536476670239446446336626340090088889811372200548124680790136226411231808446217916156642253993473090490904617116295028878255150751285248.0000           0.0000            0.00s\n",
      "      Iter       Train Loss      OOB Improve   Remaining Time \n",
      "         1           0.0141          -0.0186           19.12s\n",
      "         2           0.0279          -0.0025           21.58s\n",
      "         3           0.0397          -0.0152           21.87s\n",
      "         4           0.0211          -0.0063           22.20s\n",
      "         5           0.0858          -0.0055           21.63s\n",
      "         6           0.0559          -0.0236           21.42s\n",
      "         7           0.0537           0.0160           22.77s\n",
      "         8           0.0159           0.0003           22.26s\n",
      "         9           0.0526 -823580117361.5192           22.64s\n",
      "        10 593008048899.9821           0.0001           22.05s\n",
      "        20 889512073349.9187           0.0000           17.48s\n",
      "        30 297109134704.0525           0.0000           14.56s\n",
      "        40 593388265378.4281           0.0000           12.25s\n",
      "        50 889891152927.7158           0.0000           10.23s\n",
      "        60 818490011940491.1250        -210.1094            8.01s\n",
      "        70 410283107951036.6250           0.0000            5.95s\n",
      "        80 888907574127.0002           0.0000            3.92s\n",
      "        90 409096843096781.7500           0.0000            1.94s\n",
      "       100 408800696973840.9375           0.0000            0.00s\n",
      "      Iter       Train Loss      OOB Improve   Remaining Time \n",
      "         1           0.0150          -0.0328           19.67s\n",
      "         2           0.0308           0.0015           20.31s\n",
      "         3           0.0416           0.0009           19.06s\n",
      "         4           0.0153     -447153.6165           19.89s\n",
      "         5     1341529.6013          -0.0324           18.79s\n",
      "         6      670764.8275           0.0002           19.15s\n",
      "         7      670764.7874          -0.0001           19.05s\n",
      "         8           0.0781 -52709127511.3273           19.20s\n",
      "         9      670765.0143          -0.0502           18.74s\n",
      "        10      670765.8520           0.0001           18.54s\n",
      "        20 478365780618018528975539158268940928609412136265513785282489368969785554264275946311324404491307779175872608188082683904.0000           0.0000           16.25s\n",
      "        30 629130783325102649960470715779091690538201926086151939457810082707995822057271137264668157971383183739929881896818835456.0000           0.0000           14.63s\n",
      "        40 808590847986228279192663529511592861591578744498912827418434369422330903494505882766534369153613557665569043452736307200.0000           0.0000           12.53s\n",
      "        50 538671781700852148700779081397107338245666860917682286995555289861555614661613530356125954777277840126263603795006062592.0000           0.0000           10.35s\n",
      "        60 569116369959744076223936183781324892473024672542732361180458857008420781610889154546374295620549084574645651342865989632.0000           0.0000            8.31s\n",
      "        70 478074192900543411315002017448806579200181686966547961954118762268805417513669114143476838791021565202686058443684446208.0000           0.0000            6.23s\n",
      "        80 658409020714094321856974503951976060643096875085989420007198957577295792403073125307545869308960328859805084541368926208.0000           0.0000            4.14s\n",
      "        90 718715021796927941582214427080142470279351599738157921720264878469065852800410709352347419594930389810196080148292304896.0000           0.0000            2.05s\n",
      "       100 478657368335493574964244549399340540180489607374262708718204064161980574215231547637832092426443740960979373241053216768.0000           0.0000            0.00s\n",
      "      Iter       Train Loss      OOB Improve   Remaining Time \n",
      "         1           0.0291          -0.0053           54.94s\n",
      "         2           0.0184           0.0004           57.69s\n",
      "         3           0.0190           0.0024           57.61s\n",
      "         4         242.9053        -485.7497           57.81s\n",
      "         5         364.5769           0.0002           57.64s\n",
      "         6         485.7755          -0.0023           56.06s\n",
      "         7         364.3467          -0.0081           53.94s\n",
      "         8         364.3520           0.0001           51.86s\n",
      "         9         607.4476           0.0001           50.21s\n",
      "        10         486.0079      -10805.9114           48.98s\n",
      "        20    64481280.4989           0.1730           42.87s\n",
      "        30    38884005.8127           0.0000           37.36s\n",
      "        40    26910708.6130           0.0000           31.87s\n",
      "        50    64019358.0919          -0.0000           26.66s\n",
      "        60 811403489167288196661248.0000           0.0000           21.45s\n",
      "        70 811403489167288196661248.0000           0.0000           16.18s\n",
      "        80 1490338446554908413150885565321559783683930185635303386870393602048.0000           0.0000           10.77s\n",
      "        90 1788406135865889871294411184359183504334725917541292245093233721344.0000           0.0000            5.39s\n",
      "       100 1490338446554908413150885565321559783683930185635303386870393602048.0000           0.0000            0.00s\n",
      "      Iter       Train Loss      OOB Improve   Remaining Time \n",
      "         1           0.0192          -0.0033           48.05s\n",
      "         2           0.0145           0.0024           48.60s\n",
      "         3           0.0383          -0.0110           55.16s\n",
      "         4    19291657.3147   -14030111.4597           56.46s\n",
      "         5    15784083.2576           0.0003           57.15s\n",
      "         6    21045444.3482           0.0003           57.00s\n",
      "         7    10522722.1793          -0.0011           56.86s\n",
      "         8    12276509.1979     -359514.2479           55.31s\n",
      "         9    16143602.2399           0.0002           53.63s\n",
      "        10    15784083.2594           0.0002           52.20s\n",
      "        20    17537870.2556           0.0185           42.27s\n",
      "        30 11880917697.0008           0.0000           37.23s\n",
      "        40 47451046482.0245           0.0000           36.04s\n",
      "        50 71174118801.9578           0.0001           30.92s\n",
      "        60 1126663591947.0947           0.0000           24.72s\n",
      "        70 509966777207.9525           0.0000           18.13s\n",
      "        80 1446871781689.6833           0.0000           11.87s\n",
      "        90 1162237408065.6555           0.0000            5.86s\n",
      "       100 1496234220119.5459           0.0000            0.00s\n",
      "      Iter       Train Loss      OOB Improve   Remaining Time \n",
      "         1           0.0244          -0.0006            1.10m\n",
      "         2           0.0199           0.0025           56.93s\n",
      "         3           0.0175           0.0004           52.69s\n",
      "         4      732962.0857    -1465904.8548           51.40s\n",
      "         5     1465924.1775           0.0001           50.88s\n",
      "         6     1099443.1603           0.0002           49.96s\n",
      "         7      732962.1177           0.0002           50.61s\n",
      "         8      732962.1052           0.0001           51.06s\n",
      "         9      732962.1237           0.0001           51.29s\n",
      "        10     1832405.1825           0.0001           51.26s\n",
      "        20      381804.0138          -0.0020           42.28s\n",
      "        30     1145411.9906           0.0000           35.51s\n",
      "        40      443095.8800           0.0000           29.87s\n",
      "        50      458418.8376          -0.0000           24.49s\n",
      "        60      763608.0072          -0.0000           20.34s\n",
      "        70   182995030.8805     7363803.2308           15.83s\n",
      "        80 470724357812.2220          -0.0001           10.84s\n",
      "        90 549383128654.5692           0.0003            5.46s\n",
      "       100 447604591248.3101           0.0000            0.00s\n",
      "      Iter       Train Loss   Remaining Time \n",
      "         1           0.0284            1.27m\n",
      "         2           0.1800            1.25m\n",
      "         3 1651716733278434523529762297147929449621460556757575700566501544360664720613899934342299193661059357802106411067165064721714374371669997936181248.0000            1.24m\n",
      "         4 1651716733278434523529762297147929449621460556757575700566501544360664720613899934342299193661059357802106411067165064721714374371669997936181248.0000            1.28m\n"
     ]
    },
    {
     "name": "stdout",
     "output_type": "stream",
     "text": [
      "         5 1651716733278434523529762297147929449621460556757575700566501544360664720613899934342299193661059357802106411067165064721714374371669997936181248.0000            1.32m\n",
      "         6 1651716733278434523529762297147929449621460556757575700566501544360664720613899934342299193661059357802106411067165064721714374371669997936181248.0000            1.32m\n",
      "         7 1651716733278434523529762297147929449621460556757575700566501544360664720613899934342299193661059357802106411067165064721714374371669997936181248.0000            1.29m\n",
      "         8 1651716733278434523529762297147929449621460556757575700566501544360664720613899934342299193661059357802106411067165064721714374371669997936181248.0000            1.29m\n",
      "         9 1651716733278434523529762297147929449621460556757575700566501544360664720613899934342299193661059357802106411067165064721714374371669997936181248.0000            1.31m\n",
      "        10 1651716733278434523529762297147929449621460556757575700566501544360664720613899934342299193661059357802106411067165064721714374371669997936181248.0000            1.31m\n",
      "        20 1651716733278434523529762297147929449621460556757575700566501544360664720613899934342299193661059357802106411067165064721714374371669997936181248.0000            1.10m\n",
      "        30 1651716733278434523529762297147929449621460556757575700566501544360664720613899934342299193661059357802106411067165064721714374371669997936181248.0000           56.64s\n",
      "        40 1651716733278434523529762297147929449621460556757575700566501544360664720613899934342299193661059357802106411067165064721714374371669997936181248.0000           47.47s\n",
      "        50 1651716733278434523529762297147929449621460556757575700566501544360664720613899934342299193661059357802106411067165064721714374371669997936181248.0000           40.12s\n",
      "        60 1651716733278434523529762297147929449621460556757575700566501544360664720613899934342299193661059357802106411067165064721714374371669997936181248.0000           32.82s\n",
      "        70 1651716733278434523529762297147929449621460556757575700566501544360664720613899934342299193661059357802106411067165064721714374371669997936181248.0000           23.82s\n",
      "        80 1651716733278434523529762297147929449621460556757575700566501544360664720613899934342299193661059357802106411067165064721714374371669997936181248.0000           15.46s\n",
      "        90 1651716733278434523529762297147929449621460556757575700566501544360664720613899934342299193661059357802106411067165064721714374371669997936181248.0000            7.66s\n",
      "       100 1651716733278434523529762297147929449621460556757575700566501544360664720613899934342299193661059357802106411067165064721714374371669997936181248.0000            0.00s\n",
      "      Iter       Train Loss   Remaining Time \n",
      "         1           0.0251            2.25m\n",
      "         2           0.1103            1.84m\n",
      "         3           0.1091            1.68m\n",
      "         4           0.1087            1.55m\n",
      "         5           0.8064            1.44m\n",
      "         6           0.8060            1.36m\n",
      "         7           0.8058            1.29m\n",
      "         8           0.8055            1.32m\n",
      "         9           1.6768            1.31m\n",
      "        10           1.6705            1.27m\n",
      "        20   564901706.8875            1.08m\n",
      "        30   564901624.8087           52.81s\n",
      "        40   564901624.8085           43.45s\n",
      "        50   564901624.8084           35.29s\n",
      "        60   564901624.7786           27.72s\n",
      "        70 420584583883914754370843165148801547103080087384075115165058302532693122884828189594454210536651930954415780043289752566391397526872239636480.0000           20.50s\n",
      "        80 420584583883914754370843165148801547103080087384075115165058302532693122884828189594454210536651930954415780043289752566391397526872239636480.0000           13.45s\n",
      "        90 420584583883914754370843165148801547103080087384075115165058302532693122884828189594454210536651930954415780043289752566391397526872239636480.0000            6.63s\n",
      "       100 420584583883914754370843165148801547103080087384075115165058302532693122884828189594454210536651930954415780043289752566391397526872239636480.0000            0.00s\n",
      "      Iter       Train Loss   Remaining Time \n",
      "         1           0.0238            1.05m\n",
      "         2   556462846.5145            1.05m\n",
      "         3   556462846.8302            1.03m\n",
      "         4   556462846.8297            1.02m\n",
      "         5   556462846.8294            1.01m\n",
      "         6   556462846.8289            1.02m\n",
      "         7   556462846.8281            1.01m\n",
      "         8   556462846.8278            1.03m\n",
      "         9   556462846.8207            1.01m\n",
      "        10   549266478.8497           59.95s\n",
      "        20   549266478.8490           51.40s\n",
      "        30   549266478.8488           44.49s\n",
      "        40   549266478.8487           37.95s\n",
      "        50   549266478.8486           31.48s\n",
      "        60   549266478.8486           25.10s\n",
      "        70   549266478.8486           18.86s\n",
      "        80   549266478.8486           12.56s\n",
      "        90   549266478.8486            6.27s\n",
      "       100   549266478.8486            0.00s\n",
      "      Iter       Train Loss      OOB Improve   Remaining Time \n",
      "         1           0.0079          -0.0180           56.10s\n",
      "         2           0.0180          -0.0011           57.34s\n",
      "         3           0.0385           0.0005           55.54s\n",
      "         4           0.0417          -0.0227           57.11s\n",
      "         5           0.0887          -0.0032           55.89s\n",
      "         6           0.0397          -0.5795           55.39s\n",
      "         7           0.0416          -0.0073           53.64s\n",
      "         8           0.0328           0.0001           53.32s\n",
      "         9           0.0439           0.0001           52.57s\n",
      "        10           0.0318           0.0001           51.79s\n",
      "        20           3.7150           0.0006           51.48s\n",
      "        30           0.9693           0.0000           49.73s\n",
      "        40           1.7025           0.0000           48.67s\n",
      "        50 3095527956075687635763076786127312334356631850991068407827995752257603346963196693175005992938633450098891858962358945999312985474748420980736.0000           0.0000           46.67s\n",
      "        60 2560586228289808667463758024421375973322964724789548915417218317360739392698381524879863619938776390782405640342666229899635243190243456712704.0000           0.0000           44.59s\n",
      "        70 2023127926397136618558373647042667833732886063503288125059879990953198703086602739688977097500382039322816870991372968105217837936416277921792.0000           0.0000           43.36s\n",
      "        80 2528909907996420603967639048499693460475788722989723960253251149835506241988161834363338815379773017905083216172103289148172019014540621512704.0000           0.0000           42.18s\n",
      "        90 1665661249837619612823472600681119666858304134340694697470508070518397155127738088526967465687631569064125208334377642140519455423638896902144.0000           0.0000           40.69s\n",
      "       100 2319758536476670239446446336626340090088889811372200548124680790136226411231808446217916156642253993473090490904617116295028878255150751285248.0000           0.0000           39.41s\n",
      "       200 2708901533329575647138122379516853433191285455113391323021217555808245383641075968392215706005416899105980322866401224977891041755590419283968.0000           0.0000           18.60s\n",
      "       300 2648065466849592939212606063953542849433982699377255102783041789980440091307783384750675359317356507991313770391101731136404813185466415185920.0000           0.0000            0.00s\n",
      "      Iter       Train Loss      OOB Improve   Remaining Time \n",
      "         1           0.0141          -0.0186           54.01s\n",
      "         2           0.0279          -0.0025           58.82s\n",
      "         3           0.0397          -0.0152           59.59s\n",
      "         4           0.0211          -0.0063            1.01m\n",
      "         5           0.0858          -0.0055            1.00m\n",
      "         6           0.0559          -0.0236           59.51s\n",
      "         7           0.0537           0.0160           58.62s\n",
      "         8           0.0159           0.0003           58.03s\n",
      "         9           0.0526 -823580117361.5192           57.18s\n",
      "        10 593008048899.9821           0.0001           56.30s\n",
      "        20 889512073349.9187           0.0000           50.20s\n",
      "        30 297109134704.0525           0.0000           46.71s\n"
     ]
    },
    {
     "name": "stdout",
     "output_type": "stream",
     "text": [
      "        40 593388265378.4281           0.0000           44.10s\n",
      "        50 889891152927.7158           0.0000           42.41s\n",
      "        60 818490011940491.1250        -210.1094           40.00s\n",
      "        70 410283107951036.6250           0.0000           38.02s\n",
      "        80 888907574127.0002           0.0000           36.04s\n",
      "        90 409096843096781.7500           0.0000           34.14s\n",
      "       100 408800696973840.9375           0.0000           33.23s\n",
      "       200 1185582315403.5559           0.0000           16.34s\n",
      "       300 313370011724757184034955904221965516275712.0000           0.0000            0.00s\n",
      "      Iter       Train Loss      OOB Improve   Remaining Time \n",
      "         1           0.0150          -0.0328           53.41s\n",
      "         2           0.0308           0.0015           53.83s\n",
      "         3           0.0416           0.0009           51.71s\n",
      "         4           0.0153     -447153.6165           53.99s\n",
      "         5     1341529.6013          -0.0324           51.93s\n",
      "         6      670764.8275           0.0002           53.16s\n",
      "         7      670764.7874          -0.0001           53.08s\n",
      "         8           0.0781 -52709127511.3273           53.48s\n",
      "         9      670765.0143          -0.0502           52.72s\n",
      "        10      670765.8520           0.0001           52.48s\n",
      "        20 478365780618018528975539158268940928609412136265513785282489368969785554264275946311324404491307779175872608188082683904.0000           0.0000           48.96s\n",
      "        30 629130783325102649960470715779091690538201926086151939457810082707995822057271137264668157971383183739929881896818835456.0000           0.0000           47.72s\n",
      "        40 808590847986228279192663529511592861591578744498912827418434369422330903494505882766534369153613557665569043452736307200.0000           0.0000           46.15s\n",
      "        50 538671781700852148700779081397107338245666860917682286995555289861555614661613530356125954777277840126263603795006062592.0000           0.0000           44.27s\n",
      "        60 569116369959744076223936183781324892473024672542732361180458857008420781610889154546374295620549084574645651342865989632.0000           0.0000           42.71s\n",
      "        70 478074192900543411315002017448806579200181686966547961954118762268805417513669114143476838791021565202686058443684446208.0000           0.0000           41.08s\n",
      "        80 658409020714094321856974503951976060643096875085989420007198957577295792403073125307545869308960328859805084541368926208.0000           0.0000           39.18s\n",
      "        90 718715021796927941582214427080142470279351599738157921720264878469065852800410709352347419594930389810196080148292304896.0000           0.0000           37.38s\n",
      "       100 478657368335493574964244549399340540180489607374262708718204064161980574215231547637832092426443740960979373241053216768.0000           0.0000           35.60s\n",
      "       200 598394607348735748120439971954209262577919621542569841729847731877720751956691142589252006958126229694520853987416080384.0000           0.0000           17.90s\n",
      "       300 329058716498309637934134556410788224536009701988620248285742131192550386226058761990519090686912183537349159744199196672.0000           0.0000            0.00s\n",
      "      Iter       Train Loss      OOB Improve   Remaining Time \n",
      "         1           0.0291          -0.0053            2.39m\n",
      "         2           0.0184           0.0004            2.39m\n",
      "         3           0.0190           0.0024            2.34m\n",
      "         4         242.9053        -485.7497            2.32m\n",
      "         5         364.5769           0.0002            2.32m\n",
      "         6         485.7755          -0.0023            2.34m\n",
      "         7         364.3467          -0.0081            2.34m\n",
      "         8         364.3520           0.0001            2.32m\n",
      "         9         607.4476           0.0001            2.30m\n",
      "        10         486.0079      -10805.9114            2.30m\n",
      "        20    64481280.4989           0.1730            2.20m\n",
      "        30    38884005.8127           0.0000            2.12m\n",
      "        40    26910708.6130           0.0000            2.08m\n",
      "        50    64019358.0919          -0.0000            2.20m\n",
      "        60 811403489167288196661248.0000           0.0000            2.13m\n",
      "        70 811403489167288196661248.0000           0.0000            2.10m\n",
      "        80 1490338446554908413150885565321559783683930185635303386870393602048.0000           0.0000            2.01m\n",
      "        90 1788406135865889871294411184359183504334725917541292245093233721344.0000           0.0000            1.92m\n",
      "       100 1490338446554908413150885565321559783683930185635303386870393602048.0000           0.0000            1.82m\n",
      "       200 114883105669044569397182128769965402957169563097886876285957896101919250935249447230493462313244897085011340877161879373315309568.0000           0.0000           53.10s\n",
      "       300 111177199034559279946211285279982515409821400283300744022195856239458881739207749014914523074270656356246073036246388824690655232.0000           0.0000            0.00s\n",
      "      Iter       Train Loss      OOB Improve   Remaining Time \n",
      "         1           0.0192          -0.0033            3.90m\n",
      "         2           0.0145           0.0024            4.52m\n",
      "         3           0.0383          -0.0110            3.97m\n",
      "         4    19291657.3147   -14030111.4597            3.84m\n",
      "         5    15784083.2576           0.0003            3.65m\n",
      "         6    21045444.3482           0.0003            3.51m\n",
      "         7    10522722.1793          -0.0011            3.41m\n",
      "         8    12276509.1979     -359514.2479            3.32m\n",
      "         9    16143602.2399           0.0002            3.25m\n",
      "        10    15784083.2594           0.0002            3.20m\n",
      "        20    17537870.2556           0.0185            2.83m\n",
      "        30 11880917697.0008           0.0000            2.64m\n",
      "        40 47451046482.0245           0.0000            2.51m\n",
      "        50 71174118801.9578           0.0001            2.43m\n",
      "        60 1126663591947.0947           0.0000            2.31m\n",
      "        70 509966777207.9525           0.0000            2.20m\n",
      "        80 1446871781689.6833           0.0000            2.08m\n",
      "        90 1162237408065.6555           0.0000            1.96m\n",
      "       100 1496234220119.5459           0.0000            1.86m\n",
      "       200 1306242082161.9832           0.0000           54.54s\n",
      "       300 1805174673261.0200           0.0000            0.00s\n",
      "      Iter       Train Loss      OOB Improve   Remaining Time \n",
      "         1           0.0244          -0.0006            2.97m\n",
      "         2           0.0199           0.0025            2.87m\n",
      "         3           0.0175           0.0004            2.77m\n",
      "         4      732962.0857    -1465904.8548            2.77m\n",
      "         5     1465924.1775           0.0001            2.74m\n",
      "         6     1099443.1603           0.0002            2.73m\n",
      "         7      732962.1177           0.0002            2.72m\n",
      "         8      732962.1052           0.0001            2.70m\n",
      "         9      732962.1237           0.0001            2.69m\n",
      "        10     1832405.1825           0.0001            2.68m\n",
      "        20      381804.0138          -0.0020            2.52m\n",
      "        30     1145411.9906           0.0000            2.40m\n",
      "        40      443095.8800           0.0000            2.31m\n",
      "        50      458418.8376          -0.0000            2.20m\n",
      "        60      763608.0072          -0.0000            2.13m\n",
      "        70   182995030.8805     7363803.2308            2.01m\n",
      "        80 470724357812.2220          -0.0001            1.90m\n",
      "        90 549383128654.5692           0.0003            1.80m\n",
      "       100 447604591248.3101           0.0000            1.70m\n",
      "       200 415278867147.3950           0.0000           50.92s\n",
      "       300 408069544549.6238           0.0000            0.00s\n",
      "      Iter       Train Loss   Remaining Time \n",
      "         1           0.0284            3.72m\n",
      "         2           0.1800            3.74m\n",
      "         3 1651716733278434523529762297147929449621460556757575700566501544360664720613899934342299193661059357802106411067165064721714374371669997936181248.0000            3.72m\n",
      "         4 1651716733278434523529762297147929449621460556757575700566501544360664720613899934342299193661059357802106411067165064721714374371669997936181248.0000            3.71m\n"
     ]
    },
    {
     "name": "stdout",
     "output_type": "stream",
     "text": [
      "         5 1651716733278434523529762297147929449621460556757575700566501544360664720613899934342299193661059357802106411067165064721714374371669997936181248.0000            3.70m\n",
      "         6 1651716733278434523529762297147929449621460556757575700566501544360664720613899934342299193661059357802106411067165064721714374371669997936181248.0000            3.68m\n",
      "         7 1651716733278434523529762297147929449621460556757575700566501544360664720613899934342299193661059357802106411067165064721714374371669997936181248.0000            3.67m\n",
      "         8 1651716733278434523529762297147929449621460556757575700566501544360664720613899934342299193661059357802106411067165064721714374371669997936181248.0000            3.66m\n",
      "         9 1651716733278434523529762297147929449621460556757575700566501544360664720613899934342299193661059357802106411067165064721714374371669997936181248.0000            3.65m\n",
      "        10 1651716733278434523529762297147929449621460556757575700566501544360664720613899934342299193661059357802106411067165064721714374371669997936181248.0000            3.63m\n",
      "        20 1651716733278434523529762297147929449621460556757575700566501544360664720613899934342299193661059357802106411067165064721714374371669997936181248.0000            3.78m\n",
      "        30 1651716733278434523529762297147929449621460556757575700566501544360664720613899934342299193661059357802106411067165064721714374371669997936181248.0000            3.53m\n",
      "        40 1651716733278434523529762297147929449621460556757575700566501544360664720613899934342299193661059357802106411067165064721714374371669997936181248.0000            3.55m\n",
      "        50 1651716733278434523529762297147929449621460556757575700566501544360664720613899934342299193661059357802106411067165064721714374371669997936181248.0000            3.29m\n",
      "        60 1651716733278434523529762297147929449621460556757575700566501544360664720613899934342299193661059357802106411067165064721714374371669997936181248.0000            3.03m\n",
      "        70 1651716733278434523529762297147929449621460556757575700566501544360664720613899934342299193661059357802106411067165064721714374371669997936181248.0000            2.81m\n",
      "        80 1651716733278434523529762297147929449621460556757575700566501544360664720613899934342299193661059357802106411067165064721714374371669997936181248.0000            2.62m\n",
      "        90 1651716733278434523529762297147929449621460556757575700566501544360664720613899934342299193661059357802106411067165064721714374371669997936181248.0000            2.57m\n",
      "       100 1651716733278434523529762297147929449621460556757575700566501544360664720613899934342299193661059357802106411067165064721714374371669997936181248.0000            2.46m\n",
      "       200 1651716733278434523529762297147929449621460556757575700566501544360664720613899934342299193661059357802106411067165064721714374371669997936181248.0000            1.33m\n",
      "       300 1651716733278434523529762297147929449621460556757575700566501544360664720613899934342299193661059357802106411067165064721714374371669997936181248.0000            0.00s\n",
      "      Iter       Train Loss   Remaining Time \n",
      "         1           0.0251            4.07m\n",
      "         2           0.1103            4.41m\n",
      "         3           0.1091            4.16m\n",
      "         4           0.1087            4.05m\n",
      "         5           0.8064            4.12m\n",
      "         6           0.8060            4.22m\n",
      "         7           0.8058            4.46m\n",
      "         8           0.8055            4.88m\n",
      "         9           1.6768            4.71m\n",
      "        10           1.6705            4.63m\n",
      "        20   564901706.8875            4.24m\n",
      "        30   564901624.8087            4.23m\n",
      "        40   564901624.8085            4.34m\n",
      "        50   564901624.8084            3.91m\n",
      "        60   564901624.7786            3.60m\n",
      "        70 420584583883914754370843165148801547103080087384075115165058302532693122884828189594454210536651930954415780043289752566391397526872239636480.0000            3.36m\n",
      "        80 420584583883914754370843165148801547103080087384075115165058302532693122884828189594454210536651930954415780043289752566391397526872239636480.0000            3.13m\n",
      "        90 420584583883914754370843165148801547103080087384075115165058302532693122884828189594454210536651930954415780043289752566391397526872239636480.0000            2.93m\n",
      "       100 420584583883914754370843165148801547103080087384075115165058302532693122884828189594454210536651930954415780043289752566391397526872239636480.0000            2.74m\n",
      "       200 420584583883914754370843165148801547103080087384075115165058302532693122884828189594454210536651930954415780043289752566391397526872239636480.0000            1.38m\n",
      "       300 420584583883914754370843165148801547103080087384075115165058302532693122884828189594454210536651930954415780043289752566391397526872239636480.0000            0.00s\n",
      "      Iter       Train Loss   Remaining Time \n",
      "         1           0.0238            3.89m\n",
      "         2   556462846.5145            3.74m\n",
      "         3   556462846.8302            6.99m\n",
      "         4   556462846.8297            7.18m\n",
      "         5   556462846.8294            6.46m\n",
      "         6   556462846.8289            5.96m\n",
      "         7   556462846.8281            5.61m\n",
      "         8   556462846.8278            5.34m\n",
      "         9   556462846.8207            5.10m\n",
      "        10   549266478.8497            4.92m\n",
      "        20   549266478.8490            4.65m\n",
      "        30   549266478.8488            4.17m\n",
      "        40   549266478.8487            3.89m\n",
      "        50   549266478.8486            3.76m\n",
      "        60   549266478.8486            3.60m\n",
      "        70   549266478.8486            3.39m\n",
      "        80   549266478.8486            3.22m\n",
      "        90   549266478.8486            3.07m\n",
      "       100   549266478.8486            2.88m\n",
      "       200   549266478.8486            1.41m\n",
      "       300   549266478.8486            0.00s\n",
      "      Iter       Train Loss   Remaining Time \n",
      "         1           0.0282           14.15s\n",
      "         2           0.1214           11.71s\n",
      "         3 73335210681972299754644038225950581482262814337226631946193043571940601583090568169157709761426900290477012025344.0000           10.04s\n",
      "         4 73335210681972299754644038225950581482262814337226631946193043571940601583090568169157709761426900290477012025344.0000            8.47s\n",
      "         5 73335210681972299754644038225950581482262814337226631946193043571940601583090568169157709761426900290477012025344.0000            7.28s\n",
      "         6 73335210681972299754644038225950581482262814337226631946193043571940601583090568169157709761426900290477012025344.0000            5.74s\n",
      "         7 73335210681972299754644038225950581482262814337226631946193043571940601583090568169157709761426900290477012025344.0000            4.27s\n",
      "         8 73335210681972299754644038225950581482262814337226631946193043571940601583090568169157709761426900290477012025344.0000            2.83s\n",
      "         9 73335210681972299754644038225950581482262814337226631946193043571940601583090568169157709761426900290477012025344.0000            1.41s\n",
      "        10 73335210681972299754644038225950581482262814337226631946193043571940601583090568169157709761426900290477012025344.0000            0.00s\n"
     ]
    },
    {
     "data": {
      "text/plain": [
       "{'mean_fit_time': array([  2.73674631,   6.20925864,   7.82690843,  21.6672256 ,\n",
       "         56.71091096,  68.67120298,  53.22796535, 165.49380612,\n",
       "        235.57134604]),\n",
       " 'mean_score_time': array([0.047417  , 0.04405522, 0.04205592, 0.13080192, 0.16318274,\n",
       "        0.11625361, 0.29838339, 0.49118328, 0.42548052]),\n",
       " 'mean_test_score': array([0.67375892, 0.76436032, 0.76614529, 0.37471048, 0.65709685,\n",
       "        0.73159949, 0.34861157, 0.56933432, 0.73159949]),\n",
       " 'mean_train_score': array([0.7260955 , 0.81966826, 0.83217915, 0.4239723 , 0.69357835,\n",
       "        0.79242316, 0.40019191, 0.65217651, 0.79242316]),\n",
       " 'param_n_estimators': masked_array(data=[10, 10, 10, 100, 100, 100, 300, 300, 300],\n",
       "              mask=[False, False, False, False, False, False, False, False,\n",
       "                    False],\n",
       "        fill_value='?',\n",
       "             dtype=object),\n",
       " 'param_subsample': masked_array(data=[0.1, 0.5, 1.0, 0.1, 0.5, 1.0, 0.1, 0.5, 1.0],\n",
       "              mask=[False, False, False, False, False, False, False, False,\n",
       "                    False],\n",
       "        fill_value='?',\n",
       "             dtype=object),\n",
       " 'params': [{'n_estimators': 10, 'subsample': 0.1},\n",
       "  {'n_estimators': 10, 'subsample': 0.5},\n",
       "  {'n_estimators': 10, 'subsample': 1.0},\n",
       "  {'n_estimators': 100, 'subsample': 0.1},\n",
       "  {'n_estimators': 100, 'subsample': 0.5},\n",
       "  {'n_estimators': 100, 'subsample': 1.0},\n",
       "  {'n_estimators': 300, 'subsample': 0.1},\n",
       "  {'n_estimators': 300, 'subsample': 0.5},\n",
       "  {'n_estimators': 300, 'subsample': 1.0}],\n",
       " 'rank_test_score': array([5, 2, 1, 8, 6, 3, 9, 7, 3]),\n",
       " 'split0_test_score': array([0.68888889, 0.75206612, 0.78151261, 0.5106383 , 0.70454545,\n",
       "        0.77637131, 0.37352246, 0.46511628, 0.77637131]),\n",
       " 'split0_train_score': array([0.77067669, 0.85539715, 0.83924843, 0.53197674, 0.74806202,\n",
       "        0.82875264, 0.42316785, 0.62870159, 0.82875264]),\n",
       " 'split1_test_score': array([0.6394052 , 0.76923077, 0.77333333, 0.54019293, 0.62100457,\n",
       "        0.6695279 , 0.53378378, 0.59130435, 0.6695279 ]),\n",
       " 'split1_train_score': array([0.73033708, 0.79916318, 0.85294118, 0.58899676, 0.65478842,\n",
       "        0.75213675, 0.5915493 , 0.6401766 , 0.75213675]),\n",
       " 'split2_test_score': array([0.69298246, 0.77178423, 0.74358974, 0.07329843, 0.64573991,\n",
       "        0.74889868, 0.13852814, 0.65158371, 0.74889868]),\n",
       " 'split2_train_score': array([0.67727273, 0.80444444, 0.80434783, 0.1509434 , 0.67788462,\n",
       "        0.79638009, 0.18585859, 0.68765133, 0.79638009]),\n",
       " 'std_fit_time': array([0.1683052 , 0.11646711, 0.33399663, 1.44440131, 1.50236232,\n",
       "        5.1686383 , 2.03574232, 4.08895342, 9.01796073]),\n",
       " 'std_score_time': array([0.00850706, 0.00189046, 0.00497118, 0.01330585, 0.03542222,\n",
       "        0.00201368, 0.00478777, 0.20393134, 0.14035089]),\n",
       " 'std_test_score': array([0.02434908, 0.00875565, 0.01629493, 0.21347106, 0.03503815,\n",
       "        0.04530143, 0.16232068, 0.07769408, 0.04530143]),\n",
       " 'std_train_score': array([0.03824978, 0.02535597, 0.02045824, 0.19445892, 0.03966284,\n",
       "        0.0314032 , 0.16641746, 0.02551818, 0.0314032 ])}"
      ]
     },
     "execution_count": 27,
     "metadata": {},
     "output_type": "execute_result"
    }
   ],
   "source": [
    "tune_parameters = {'n_estimators':[10,100,300],'subsample':[0.1,0.5,1.0]}\n",
    "model_xgboost = GradientBoostingClassifier(random_state=RANDOM_SEED,\n",
    "                                           verbose=1)\n",
    "cross_validation_xg = GridSearchCV(model_xgboost, tune_parameters, scoring='f1',\n",
    "                                   return_train_score=True)\n",
    "cross_validation_xg.fit(train_data[features], numpy.ravel(train_data['target']))\n",
    "cross_validation_xg.cv_results_"
   ]
  },
  {
   "cell_type": "code",
   "execution_count": 28,
   "metadata": {},
   "outputs": [
    {
     "name": "stdout",
     "output_type": "stream",
     "text": [
      "      Iter       Train Loss   Remaining Time \n",
      "         1           0.0282           12.69s\n",
      "         2           0.1214           11.25s\n",
      "         3 73335210681972299754644038225950581482262814337226631946193043571940601583090568169157709761426900290477012025344.0000            9.72s\n",
      "         4 73335210681972299754644038225950581482262814337226631946193043571940601583090568169157709761426900290477012025344.0000            8.28s\n",
      "         5 73335210681972299754644038225950581482262814337226631946193043571940601583090568169157709761426900290477012025344.0000            6.88s\n",
      "         6 73335210681972299754644038225950581482262814337226631946193043571940601583090568169157709761426900290477012025344.0000            5.50s\n",
      "         7 73335210681972299754644038225950581482262814337226631946193043571940601583090568169157709761426900290477012025344.0000            4.09s\n",
      "         8 73335210681972299754644038225950581482262814337226631946193043571940601583090568169157709761426900290477012025344.0000            2.68s\n",
      "         9 73335210681972299754644038225950581482262814337226631946193043571940601583090568169157709761426900290477012025344.0000            1.33s\n",
      "        10 73335210681972299754644038225950581482262814337226631946193043571940601583090568169157709761426900290477012025344.0000            0.00s\n"
     ]
    },
    {
     "data": {
      "text/plain": [
       "GradientBoostingClassifier(criterion='friedman_mse', init=None,\n",
       "              learning_rate=0.1, loss='deviance', max_depth=3,\n",
       "              max_features=None, max_leaf_nodes=None,\n",
       "              min_impurity_decrease=0.0, min_impurity_split=None,\n",
       "              min_samples_leaf=1, min_samples_split=2,\n",
       "              min_weight_fraction_leaf=0.0, n_estimators=10,\n",
       "              presort='auto', random_state=42, subsample=1, verbose=1,\n",
       "              warm_start=False)"
      ]
     },
     "execution_count": 28,
     "metadata": {},
     "output_type": "execute_result"
    }
   ],
   "source": [
    "#XG Boost model\n",
    "model_xgboost.set_params(n_estimators=10,subsample=1)\n",
    "model_xgboost.fit(train_data[features], numpy.ravel(train_data['target']))"
   ]
  },
  {
   "cell_type": "markdown",
   "metadata": {},
   "source": [
    "#### ADA Boost"
   ]
  },
  {
   "cell_type": "code",
   "execution_count": 29,
   "metadata": {
    "scrolled": true
   },
   "outputs": [
    {
     "data": {
      "text/plain": [
       "{'mean_fit_time': array([ 8.34121529, 44.46844323, 96.47816364]),\n",
       " 'mean_score_time': array([0.18563946, 0.67252318, 1.6052045 ]),\n",
       " 'mean_test_score': array([0.71855472, 0.7292284 , 0.78590344]),\n",
       " 'mean_train_score': array([0.72714213, 0.76676704, 0.83919882]),\n",
       " 'param_n_estimators': masked_array(data=[10, 50, 100],\n",
       "              mask=[False, False, False],\n",
       "        fill_value='?',\n",
       "             dtype=object),\n",
       " 'params': [{'n_estimators': 10}, {'n_estimators': 50}, {'n_estimators': 100}],\n",
       " 'rank_test_score': array([3, 2, 1]),\n",
       " 'split0_test_score': array([0.72413793, 0.73593074, 0.76987448]),\n",
       " 'split0_train_score': array([0.70912951, 0.788     , 0.85539715]),\n",
       " 'split1_test_score': array([0.68444444, 0.70175439, 0.76855895]),\n",
       " 'split1_train_score': array([0.76091476, 0.76386037, 0.82886598]),\n",
       " 'split2_test_score': array([0.74708171, 0.75      , 0.81927711]),\n",
       " 'split2_train_score': array([0.71138211, 0.74844075, 0.83333333]),\n",
       " 'std_fit_time': array([0.09617005, 4.1349556 , 4.83171043]),\n",
       " 'std_score_time': array([0.05809163, 0.06374296, 0.12385434]),\n",
       " 'std_test_score': array([0.02587447, 0.02025831, 0.02360478]),\n",
       " 'std_train_score': array([0.02389856, 0.01628026, 0.01159824])}"
      ]
     },
     "execution_count": 29,
     "metadata": {},
     "output_type": "execute_result"
    }
   ],
   "source": [
    "tune_parameters = {'n_estimators':[10,50,100]}\n",
    "model_adaboost = AdaBoostClassifier(random_state=RANDOM_SEED)\n",
    "cross_validation_ada = GridSearchCV(model_adaboost, tune_parameters, scoring='f1',\n",
    "                                    return_train_score=True)\n",
    "cross_validation_ada.fit(train_data[features], numpy.ravel(train_data['target']))\n",
    "cross_validation_ada.cv_results_"
   ]
  },
  {
   "cell_type": "code",
   "execution_count": 30,
   "metadata": {},
   "outputs": [
    {
     "data": {
      "text/plain": [
       "AdaBoostClassifier(algorithm='SAMME.R', base_estimator=None,\n",
       "          learning_rate=1.0, n_estimators=100, random_state=42)"
      ]
     },
     "execution_count": 30,
     "metadata": {},
     "output_type": "execute_result"
    }
   ],
   "source": [
    "#ADA Boost\n",
    "model_adaboost.set_params(n_estimators=100)\n",
    "model_adaboost.fit(train_data[features], numpy.ravel(train_data['target']))"
   ]
  },
  {
   "cell_type": "markdown",
   "metadata": {},
   "source": [
    "#### SVM"
   ]
  },
  {
   "cell_type": "code",
   "execution_count": 31,
   "metadata": {
    "scrolled": true
   },
   "outputs": [
    {
     "name": "stdout",
     "output_type": "stream",
     "text": [
      "[LibSVM][LibSVM][LibSVM][LibSVM][LibSVM][LibSVM][LibSVM][LibSVM][LibSVM][LibSVM][LibSVM][LibSVM][LibSVM][LibSVM][LibSVM][LibSVM]"
     ]
    },
    {
     "data": {
      "text/plain": [
       "{'mean_fit_time': array([535.18364429, 260.00802811,  70.63072554,  43.07608994,\n",
       "         27.16431832]),\n",
       " 'mean_score_time': array([106.96973435,  42.10134268,  15.67503866,   6.72432661,\n",
       "          3.33342385]),\n",
       " 'mean_test_score': array([0.11983713, 0.27884624, 0.48041886, 0.63500881, 0.67997917]),\n",
       " 'mean_train_score': array([0.12772783, 0.36230768, 0.65120369, 0.87165271, 0.96930439]),\n",
       " 'param_C': masked_array(data=[0.01, 0.1, 1, 10, 100],\n",
       "              mask=[False, False, False, False, False],\n",
       "        fill_value='?',\n",
       "             dtype=object),\n",
       " 'params': [{'C': 0.01}, {'C': 0.1}, {'C': 1}, {'C': 10}, {'C': 100}],\n",
       " 'rank_test_score': array([5, 4, 3, 2, 1]),\n",
       " 'split0_test_score': array([0.12645591, 0.32312925, 0.50837989, 0.61090909, 0.65354331]),\n",
       " 'split0_train_score': array([0.14196833, 0.45749343, 0.7100271 , 0.91130435, 0.97761194]),\n",
       " 'split1_test_score': array([0.13264723, 0.26812585, 0.44444444, 0.61029412, 0.65306122]),\n",
       " 'split1_train_score': array([0.13721186, 0.34025974, 0.61664713, 0.8538961 , 0.96869245]),\n",
       " 'split2_test_score': array([0.10040816, 0.24528302, 0.48843188, 0.68382353, 0.73333333]),\n",
       " 'split2_train_score': array([0.1040033 , 0.28916987, 0.62693683, 0.84975767, 0.96160878]),\n",
       " 'std_fit_time': array([32.19526982, 72.81295488,  7.86160519,  0.29083482,  4.80086561]),\n",
       " 'std_score_time': array([14.77821084,  5.1702963 ,  2.08988606,  0.56586787,  0.9770017 ]),\n",
       " 'std_test_score': array([0.01396889, 0.03267218, 0.02670947, 0.03451802, 0.03772748]),\n",
       " 'std_train_score': array([0.01688778, 0.07046412, 0.04180602, 0.0280888 , 0.00654758])}"
      ]
     },
     "execution_count": 31,
     "metadata": {},
     "output_type": "execute_result"
    }
   ],
   "source": [
    "tune_parameters = {'C':[0.01,0.1,1,10,100]}\n",
    "model_svm = svm.SVC(tol=TOL, max_iter=MAX_ITER,\n",
    "                    class_weight='balanced', random_state=RANDOM_SEED,\n",
    "                    verbose=1)\n",
    "cross_validation_svm = GridSearchCV(model_svm, tune_parameters, scoring='f1',\n",
    "                                    return_train_score=True)\n",
    "cross_validation_svm.fit(train_data[features], numpy.ravel(train_data['target']))\n",
    "cross_validation_svm.cv_results_"
   ]
  },
  {
   "cell_type": "code",
   "execution_count": 32,
   "metadata": {},
   "outputs": [
    {
     "name": "stdout",
     "output_type": "stream",
     "text": [
      "[LibSVM]"
     ]
    },
    {
     "data": {
      "text/plain": [
       "SVC(C=100, cache_size=200, class_weight='balanced', coef0=0.0,\n",
       "  decision_function_shape='ovr', degree=3, gamma='auto', kernel='rbf',\n",
       "  max_iter=100000.0, probability=False, random_state=42, shrinking=True,\n",
       "  tol=1e-05, verbose=1)"
      ]
     },
     "execution_count": 32,
     "metadata": {},
     "output_type": "execute_result"
    }
   ],
   "source": [
    "model_svm.set_params(C=100)\n",
    "model_svm.fit(train_data[features], numpy.ravel(train_data['target']))"
   ]
  },
  {
   "cell_type": "markdown",
   "metadata": {},
   "source": [
    "## Models comparison"
   ]
  },
  {
   "cell_type": "markdown",
   "metadata": {
    "collapsed": true
   },
   "source": [
    "Now that we have a tuned version of each model, we can compare them to determine which one works best, that is, which one generalizes best on the test data set."
   ]
  },
  {
   "cell_type": "code",
   "execution_count": 33,
   "metadata": {},
   "outputs": [
    {
     "name": "stderr",
     "output_type": "stream",
     "text": [
      "[Parallel(n_jobs=1)]: Done  10 out of  10 | elapsed:    0.0s finished\n"
     ]
    }
   ],
   "source": [
    "predict_logit = model_logit.predict(test_data[features])\n",
    "predict_tree = model_tree.predict(test_data[features])\n",
    "predict_forest = model_forest.predict(test_data[features])\n",
    "predict_xgboost = model_xgboost.predict(test_data[features])\n",
    "predict_adaboost = model_adaboost.predict(test_data[features])\n",
    "predict_svm = model_svm.predict(test_data[features])"
   ]
  },
  {
   "cell_type": "code",
   "execution_count": 34,
   "metadata": {},
   "outputs": [
    {
     "name": "stdout",
     "output_type": "stream",
     "text": [
      "model                      precision |  recall  |    F1\n",
      "Logistic regression          0.9184  |  0.0637  |  0.1192\n",
      "Decision Tree                0.7449  |  0.8022  |  0.7725\n",
      "Random Forest                0.7245  |  0.9726  |  0.8304\n",
      "XG Boost                     0.6837  |  0.7283  |  0.7053\n",
      "ADA Boost                    0.7347  |  0.8675  |  0.7956\n",
      "SVM                          0.6837  |  0.7614  |  0.7204\n"
     ]
    }
   ],
   "source": [
    "#Precision and recall\n",
    "print('model                      precision |  recall  |    F1')\n",
    "print('Logistic regression          {:.4f}  |  {:.4f}  |  {:.4f}'.format(\n",
    "      metrics.precision_score(predict_logit,numpy.ravel(test_data['target'])),\n",
    "      metrics.recall_score(predict_logit,numpy.ravel(test_data['target'])),\n",
    "      metrics.f1_score(predict_logit,numpy.ravel(test_data['target']))))\n",
    "print('Decision Tree                {:.4f}  |  {:.4f}  |  {:.4f}'.format(\n",
    "      metrics.precision_score(predict_tree,numpy.ravel(test_data['target'])),\n",
    "      metrics.recall_score(predict_tree,numpy.ravel(test_data['target'])),\n",
    "      metrics.f1_score(predict_tree,numpy.ravel(test_data['target']))))\n",
    "print('Random Forest                {:.4f}  |  {:.4f}  |  {:.4f}'.format(\n",
    "      metrics.precision_score(predict_forest,numpy.ravel(test_data['target'])),\n",
    "      metrics.recall_score(predict_forest,numpy.ravel(test_data['target'])),\n",
    "      metrics.f1_score(predict_forest,numpy.ravel(test_data['target']))))\n",
    "print('XG Boost                     {:.4f}  |  {:.4f}  |  {:.4f}'.format(\n",
    "      metrics.precision_score(predict_xgboost,numpy.ravel(test_data['target'])),\n",
    "      metrics.recall_score(predict_xgboost,numpy.ravel(test_data['target'])),\n",
    "      metrics.f1_score(predict_xgboost,numpy.ravel(test_data['target']))))\n",
    "print('ADA Boost                    {:.4f}  |  {:.4f}  |  {:.4f}'.format(\n",
    "      metrics.precision_score(predict_adaboost,numpy.ravel(test_data['target'])),\n",
    "      metrics.recall_score(predict_adaboost,numpy.ravel(test_data['target'])),\n",
    "      metrics.f1_score(predict_adaboost,numpy.ravel(test_data['target']))))\n",
    "print('SVM                          {:.4f}  |  {:.4f}  |  {:.4f}'.format(\n",
    "      metrics.precision_score(predict_svm,numpy.ravel(test_data['target'])),\n",
    "      metrics.recall_score(predict_svm,numpy.ravel(test_data['target'])),\n",
    "      metrics.f1_score(predict_svm,numpy.ravel(test_data['target']))))"
   ]
  },
  {
   "cell_type": "code",
   "execution_count": 35,
   "metadata": {},
   "outputs": [
    {
     "data": {
      "image/png": "[encoded data removed]",
      "text/plain": [
       "<matplotlib.figure.Figure at 0x13b3a724080>"
      ]
     },
     "metadata": {},
     "output_type": "display_data"
    }
   ],
   "source": [
    "# ROC curves\n",
    "# fpr_logit, tpr_logit, _ = metrics.roc_curve(numpy.ravel(test_data['target']), predict_logit)\n",
    "# fpr_tree, tpr_tree, _ = metrics.roc_curve(numpy.ravel(test_data['target']), predict_tree)\n",
    "# fpr_forest, tpr_forest, _ = metrics.roc_curve(numpy.ravel(test_data['target']), predict_forest)\n",
    "# fpr_xgboost, tpr_xgboost, _ = metrics.roc_curve(numpy.ravel(test_data['target']), predict_xgboost)\n",
    "# fpr_adaboost, tpr_adaboost, _ = metrics.roc_curve(numpy.ravel(test_data['target']), predict_adaboost)\n",
    "# fpr_svm, tpr_svm, _ = metrics.roc_curve(numpy.ravel(test_data['target']), predict_svm)\n",
    "\n",
    "fpr_logit, tpr_logit, _ = metrics.roc_curve(predict_logit, numpy.ravel(test_data['target']))\n",
    "fpr_tree, tpr_tree, _ = metrics.roc_curve(predict_tree, numpy.ravel(test_data['target']))\n",
    "fpr_forest, tpr_forest, _ = metrics.roc_curve(predict_forest, numpy.ravel(test_data['target']))\n",
    "fpr_xgboost, tpr_xgboost, _ = metrics.roc_curve(predict_xgboost, numpy.ravel(test_data['target']))\n",
    "fpr_adaboost, tpr_adaboost, _ = metrics.roc_curve(predict_adaboost, numpy.ravel(test_data['target']))\n",
    "fpr_svm, tpr_svm, _ = metrics.roc_curve(predict_svm, numpy.ravel(test_data['target']))\n",
    "\n",
    "plt.figure(1, figsize=(16, 10))\n",
    "plt.plot([0, 1], [0, 1], 'k--')\n",
    "plt.plot(fpr_logit, tpr_logit, label='Logit')\n",
    "plt.plot(fpr_tree, tpr_tree, label='Decision Tree')\n",
    "plt.plot(fpr_forest, tpr_forest, label='Random Forest')\n",
    "plt.plot(fpr_xgboost, tpr_xgboost, label='XGBoost')\n",
    "plt.plot(fpr_adaboost, tpr_adaboost, label='AdaBoost')\n",
    "plt.plot(fpr_svm, tpr_svm, label='SVM')\n",
    "plt.xlabel('False positive rate')\n",
    "plt.ylabel('True positive rate')\n",
    "plt.title('ROC curve')\n",
    "plt.legend(loc='best')\n",
    "plt.show()"
   ]
  },
  {
   "cell_type": "markdown",
   "metadata": {},
   "source": [
    "The results above show clear superior predictive power on the **Random Forest** when compared to the other models tested.\n",
    "\n",
    "In cases of fraud detection, it is reasonable to assume that the predictive model will be used to trigger further action against the attempted fraud, such as additional validation before completing the transaction. Therefore a high **recall** metric is especially relevant, meaning that a higher number of frauds will be sent to additional validation, albeit at the cost of sending more legitimate transactions the same way. This is certainly better than _bothering_ fewer legitimate customers at the expense of letting more frauds through.\n",
    "\n",
    "The **Random Forest** model performs exceptionally well in this metric, detecting more than 97% fraud cases on the generalization test, with precision significantly close to all other models except Logistic Regression (which fails miserably at recall, detecting only 6% of the actual fraud cases).\n"
   ]
  },
  {
   "cell_type": "markdown",
   "metadata": {},
   "source": [
    "As a final analysis, let's see how the newly engineered features affected our models:"
   ]
  },
  {
   "cell_type": "code",
   "execution_count": 36,
   "metadata": {},
   "outputs": [
    {
     "data": {
      "text/plain": [
       "array([[ 0.39486226,  0.00637974,  0.17415135,  0.84874589,  0.31576623,\n",
       "        -0.28480923, -0.19340365, -0.42736045, -0.45534436, -0.884398  ,\n",
       "         0.385547  , -0.9442033 , -0.15534971, -1.14881111, -0.13196692,\n",
       "        -0.54985644, -0.5184723 , -0.21033853,  0.17382833, -0.52922338,\n",
       "         0.1977625 ,  0.53760502, -0.07447851, -0.13076075,  0.01858075,\n",
       "        -0.43359303,  0.08325824,  0.44777951,  0.78401455,  0.08538628]])"
      ]
     },
     "execution_count": 36,
     "metadata": {},
     "output_type": "execute_result"
    }
   ],
   "source": [
    "model_logit.coef_"
   ]
  },
  {
   "cell_type": "markdown",
   "metadata": {},
   "source": [
    "The Logistic Regression model was significantly impacted by the _Amount_ (V29 being among top 5 most relevant features), but not by the _Time of day_ (V30, the last one, ranking on bottom 5). Note: _Time_ may have been affected by the low regularization parameter selected on tuning, but a higher parameter wouldn't change its position relative to other features."
   ]
  },
  {
   "cell_type": "code",
   "execution_count": 37,
   "metadata": {},
   "outputs": [
    {
     "data": {
      "text/plain": [
       "array([3.79740836e-03, 1.85646275e-02, 4.67477516e-03, 6.10494475e-02,\n",
       "       3.59989579e-03, 3.44854106e-03, 4.24564250e-03, 1.58457107e-02,\n",
       "       7.76506066e-03, 4.87266073e-03, 2.63692157e-03, 4.43741313e-02,\n",
       "       6.44181925e-03, 6.83411001e-01, 1.00888101e-02, 2.66567217e-03,\n",
       "       6.80448737e-03, 3.94414271e-03, 2.29520902e-02, 2.49829550e-04,\n",
       "       6.11889843e-05, 3.98850603e-03, 1.69340783e-02, 1.79896363e-03,\n",
       "       1.10307554e-03, 1.81455522e-02, 1.69423371e-02, 1.93120804e-03,\n",
       "       2.61634316e-02, 1.49898354e-03])"
      ]
     },
     "execution_count": 37,
     "metadata": {},
     "output_type": "execute_result"
    }
   ],
   "source": [
    "model_tree.feature_importances_"
   ]
  },
  {
   "cell_type": "markdown",
   "metadata": {},
   "source": [
    "The Decision Tree behaved similarly with these two variables: _Amount_ is still top 5, and _Time_ is still bottom 5."
   ]
  },
  {
   "cell_type": "code",
   "execution_count": 38,
   "metadata": {},
   "outputs": [
    {
     "data": {
      "text/plain": [
       "array([0.01053937, 0.00797883, 0.05771089, 0.10647687, 0.00932646,\n",
       "       0.00708323, 0.05788485, 0.01883541, 0.00487664, 0.05045152,\n",
       "       0.0721503 , 0.02180669, 0.01107454, 0.30717858, 0.00642483,\n",
       "       0.06004379, 0.08009896, 0.00901563, 0.01742218, 0.00456321,\n",
       "       0.00934209, 0.01017223, 0.00815084, 0.00864613, 0.00942504,\n",
       "       0.01159949, 0.00573452, 0.00485479, 0.00798205, 0.00315005])"
      ]
     },
     "execution_count": 38,
     "metadata": {},
     "output_type": "execute_result"
    }
   ],
   "source": [
    "model_forest.feature_importances_"
   ]
  },
  {
   "cell_type": "markdown",
   "metadata": {},
   "source": [
    "The best performing model, the Random Forest, had a much lower ranking for _Amount_, while _Time_ was the least relevant feature used."
   ]
  },
  {
   "cell_type": "markdown",
   "metadata": {},
   "source": [
    "## Unsupervised next steps"
   ]
  },
  {
   "cell_type": "markdown",
   "metadata": {
    "collapsed": true
   },
   "source": [
    "This challenge could be attacked as an anomaly detection problem - the fraud attempts being anomalous transactions in the population. One popular model for such approach would be k-NN, which clusters samples together based on each samples' nearest neighbours. A large distance to its neighbours may be a good indication that a given sample is an outlier."
   ]
  },
  {
   "cell_type": "code",
   "execution_count": null,
   "metadata": {
    "collapsed": true
   },
   "outputs": [],
   "source": []
  }
 ],
 "metadata": {
  "kernelspec": {
   "display_name": "Python 3",
   "language": "python",
   "name": "python3"
  },
  "language_info": {
   "codemirror_mode": {
    "name": "ipython",
    "version": 3
   },
   "file_extension": ".py",
   "mimetype": "text/x-python",
   "name": "python",
   "nbconvert_exporter": "python",
   "pygments_lexer": "ipython3",
   "version": "3.5.1"
  }
 },
 "nbformat": 4,
 "nbformat_minor": 2
}
